{
 "cells": [
  {
   "cell_type": "code",
   "execution_count": 1,
   "id": "c4c6b7ff",
   "metadata": {},
   "outputs": [],
   "source": [
    "import numpy as np\n",
    "import pandas as pd"
   ]
  },
  {
   "cell_type": "code",
   "execution_count": 2,
   "id": "f1c7eacb",
   "metadata": {},
   "outputs": [],
   "source": [
    "import matplotlib.pyplot as plt\n",
    "import seaborn as sns\n",
    "import plotly.express as px"
   ]
  },
  {
   "cell_type": "code",
   "execution_count": 3,
   "id": "8787cd08",
   "metadata": {},
   "outputs": [],
   "source": [
    "df=pd.read_csv('c:\\\\Users\\\\KAUSHIK\\\\Downloads\\\\social media sentiment analysis.csv\\\\sentimentdataset.csv')"
   ]
  },
  {
   "cell_type": "code",
   "execution_count": 4,
   "id": "be0d07fe",
   "metadata": {},
   "outputs": [
    {
     "data": {
      "text/html": [
       "<div>\n",
       "<style scoped>\n",
       "    .dataframe tbody tr th:only-of-type {\n",
       "        vertical-align: middle;\n",
       "    }\n",
       "\n",
       "    .dataframe tbody tr th {\n",
       "        vertical-align: top;\n",
       "    }\n",
       "\n",
       "    .dataframe thead th {\n",
       "        text-align: right;\n",
       "    }\n",
       "</style>\n",
       "<table border=\"1\" class=\"dataframe\">\n",
       "  <thead>\n",
       "    <tr style=\"text-align: right;\">\n",
       "      <th></th>\n",
       "      <th>Unnamed: 0.1</th>\n",
       "      <th>Unnamed: 0</th>\n",
       "      <th>Text</th>\n",
       "      <th>Sentiment</th>\n",
       "      <th>Timestamp</th>\n",
       "      <th>User</th>\n",
       "      <th>Platform</th>\n",
       "      <th>Hashtags</th>\n",
       "      <th>Retweets</th>\n",
       "      <th>Likes</th>\n",
       "      <th>Country</th>\n",
       "      <th>Year</th>\n",
       "      <th>Month</th>\n",
       "      <th>Day</th>\n",
       "      <th>Hour</th>\n",
       "    </tr>\n",
       "  </thead>\n",
       "  <tbody>\n",
       "    <tr>\n",
       "      <th>0</th>\n",
       "      <td>0</td>\n",
       "      <td>0</td>\n",
       "      <td>Enjoying a beautiful day at the park!        ...</td>\n",
       "      <td>Positive</td>\n",
       "      <td>2023-01-15 12:30:00</td>\n",
       "      <td>User123</td>\n",
       "      <td>Twitter</td>\n",
       "      <td>#Nature #Park</td>\n",
       "      <td>15.0</td>\n",
       "      <td>30.0</td>\n",
       "      <td>USA</td>\n",
       "      <td>2023</td>\n",
       "      <td>1</td>\n",
       "      <td>15</td>\n",
       "      <td>12</td>\n",
       "    </tr>\n",
       "    <tr>\n",
       "      <th>1</th>\n",
       "      <td>1</td>\n",
       "      <td>1</td>\n",
       "      <td>Traffic was terrible this morning.           ...</td>\n",
       "      <td>Negative</td>\n",
       "      <td>2023-01-15 08:45:00</td>\n",
       "      <td>CommuterX</td>\n",
       "      <td>Twitter</td>\n",
       "      <td>#Traffic #Morning</td>\n",
       "      <td>5.0</td>\n",
       "      <td>10.0</td>\n",
       "      <td>Canada</td>\n",
       "      <td>2023</td>\n",
       "      <td>1</td>\n",
       "      <td>15</td>\n",
       "      <td>8</td>\n",
       "    </tr>\n",
       "    <tr>\n",
       "      <th>2</th>\n",
       "      <td>2</td>\n",
       "      <td>2</td>\n",
       "      <td>Just finished an amazing workout! 💪          ...</td>\n",
       "      <td>Positive</td>\n",
       "      <td>2023-01-15 15:45:00</td>\n",
       "      <td>FitnessFan</td>\n",
       "      <td>Instagram</td>\n",
       "      <td>#Fitness #Workout</td>\n",
       "      <td>20.0</td>\n",
       "      <td>40.0</td>\n",
       "      <td>USA</td>\n",
       "      <td>2023</td>\n",
       "      <td>1</td>\n",
       "      <td>15</td>\n",
       "      <td>15</td>\n",
       "    </tr>\n",
       "    <tr>\n",
       "      <th>3</th>\n",
       "      <td>3</td>\n",
       "      <td>3</td>\n",
       "      <td>Excited about the upcoming weekend getaway!  ...</td>\n",
       "      <td>Positive</td>\n",
       "      <td>2023-01-15 18:20:00</td>\n",
       "      <td>AdventureX</td>\n",
       "      <td>Facebook</td>\n",
       "      <td>#Travel #Adventure</td>\n",
       "      <td>8.0</td>\n",
       "      <td>15.0</td>\n",
       "      <td>UK</td>\n",
       "      <td>2023</td>\n",
       "      <td>1</td>\n",
       "      <td>15</td>\n",
       "      <td>18</td>\n",
       "    </tr>\n",
       "    <tr>\n",
       "      <th>4</th>\n",
       "      <td>4</td>\n",
       "      <td>4</td>\n",
       "      <td>Trying out a new recipe for dinner tonight.  ...</td>\n",
       "      <td>Neutral</td>\n",
       "      <td>2023-01-15 19:55:00</td>\n",
       "      <td>ChefCook</td>\n",
       "      <td>Instagram</td>\n",
       "      <td>#Cooking #Food</td>\n",
       "      <td>12.0</td>\n",
       "      <td>25.0</td>\n",
       "      <td>Australia</td>\n",
       "      <td>2023</td>\n",
       "      <td>1</td>\n",
       "      <td>15</td>\n",
       "      <td>19</td>\n",
       "    </tr>\n",
       "    <tr>\n",
       "      <th>...</th>\n",
       "      <td>...</td>\n",
       "      <td>...</td>\n",
       "      <td>...</td>\n",
       "      <td>...</td>\n",
       "      <td>...</td>\n",
       "      <td>...</td>\n",
       "      <td>...</td>\n",
       "      <td>...</td>\n",
       "      <td>...</td>\n",
       "      <td>...</td>\n",
       "      <td>...</td>\n",
       "      <td>...</td>\n",
       "      <td>...</td>\n",
       "      <td>...</td>\n",
       "      <td>...</td>\n",
       "    </tr>\n",
       "    <tr>\n",
       "      <th>727</th>\n",
       "      <td>728</td>\n",
       "      <td>732</td>\n",
       "      <td>Collaborating on a science project that receiv...</td>\n",
       "      <td>Happy</td>\n",
       "      <td>2017-08-18 18:20:00</td>\n",
       "      <td>ScienceProjectSuccessHighSchool</td>\n",
       "      <td>Facebook</td>\n",
       "      <td>#ScienceFairWinner #HighSchoolScience</td>\n",
       "      <td>20.0</td>\n",
       "      <td>39.0</td>\n",
       "      <td>UK</td>\n",
       "      <td>2017</td>\n",
       "      <td>8</td>\n",
       "      <td>18</td>\n",
       "      <td>18</td>\n",
       "    </tr>\n",
       "    <tr>\n",
       "      <th>728</th>\n",
       "      <td>729</td>\n",
       "      <td>733</td>\n",
       "      <td>Attending a surprise birthday party organized ...</td>\n",
       "      <td>Happy</td>\n",
       "      <td>2018-06-22 14:15:00</td>\n",
       "      <td>BirthdayPartyJoyHighSchool</td>\n",
       "      <td>Instagram</td>\n",
       "      <td>#SurpriseCelebration #HighSchoolFriendship</td>\n",
       "      <td>25.0</td>\n",
       "      <td>48.0</td>\n",
       "      <td>USA</td>\n",
       "      <td>2018</td>\n",
       "      <td>6</td>\n",
       "      <td>22</td>\n",
       "      <td>14</td>\n",
       "    </tr>\n",
       "    <tr>\n",
       "      <th>729</th>\n",
       "      <td>730</td>\n",
       "      <td>734</td>\n",
       "      <td>Successfully fundraising for a school charity ...</td>\n",
       "      <td>Happy</td>\n",
       "      <td>2019-04-05 17:30:00</td>\n",
       "      <td>CharityFundraisingTriumphHighSchool</td>\n",
       "      <td>Twitter</td>\n",
       "      <td>#CommunityGiving #HighSchoolPhilanthropy</td>\n",
       "      <td>22.0</td>\n",
       "      <td>42.0</td>\n",
       "      <td>Canada</td>\n",
       "      <td>2019</td>\n",
       "      <td>4</td>\n",
       "      <td>5</td>\n",
       "      <td>17</td>\n",
       "    </tr>\n",
       "    <tr>\n",
       "      <th>730</th>\n",
       "      <td>731</td>\n",
       "      <td>735</td>\n",
       "      <td>Participating in a multicultural festival, cel...</td>\n",
       "      <td>Happy</td>\n",
       "      <td>2020-02-29 20:45:00</td>\n",
       "      <td>MulticulturalFestivalJoyHighSchool</td>\n",
       "      <td>Facebook</td>\n",
       "      <td>#CulturalCelebration #HighSchoolUnity</td>\n",
       "      <td>21.0</td>\n",
       "      <td>43.0</td>\n",
       "      <td>UK</td>\n",
       "      <td>2020</td>\n",
       "      <td>2</td>\n",
       "      <td>29</td>\n",
       "      <td>20</td>\n",
       "    </tr>\n",
       "    <tr>\n",
       "      <th>731</th>\n",
       "      <td>732</td>\n",
       "      <td>736</td>\n",
       "      <td>Organizing a virtual talent show during challe...</td>\n",
       "      <td>Happy</td>\n",
       "      <td>2020-11-15 15:15:00</td>\n",
       "      <td>VirtualTalentShowSuccessHighSchool</td>\n",
       "      <td>Instagram</td>\n",
       "      <td>#VirtualEntertainment #HighSchoolPositivity</td>\n",
       "      <td>24.0</td>\n",
       "      <td>47.0</td>\n",
       "      <td>USA</td>\n",
       "      <td>2020</td>\n",
       "      <td>11</td>\n",
       "      <td>15</td>\n",
       "      <td>15</td>\n",
       "    </tr>\n",
       "  </tbody>\n",
       "</table>\n",
       "<p>732 rows × 15 columns</p>\n",
       "</div>"
      ],
      "text/plain": [
       "     Unnamed: 0.1  Unnamed: 0  \\\n",
       "0               0           0   \n",
       "1               1           1   \n",
       "2               2           2   \n",
       "3               3           3   \n",
       "4               4           4   \n",
       "..            ...         ...   \n",
       "727           728         732   \n",
       "728           729         733   \n",
       "729           730         734   \n",
       "730           731         735   \n",
       "731           732         736   \n",
       "\n",
       "                                                  Text    Sentiment  \\\n",
       "0     Enjoying a beautiful day at the park!        ...   Positive     \n",
       "1     Traffic was terrible this morning.           ...   Negative     \n",
       "2     Just finished an amazing workout! 💪          ...   Positive     \n",
       "3     Excited about the upcoming weekend getaway!  ...   Positive     \n",
       "4     Trying out a new recipe for dinner tonight.  ...   Neutral      \n",
       "..                                                 ...          ...   \n",
       "727  Collaborating on a science project that receiv...       Happy    \n",
       "728  Attending a surprise birthday party organized ...       Happy    \n",
       "729  Successfully fundraising for a school charity ...       Happy    \n",
       "730  Participating in a multicultural festival, cel...       Happy    \n",
       "731  Organizing a virtual talent show during challe...       Happy    \n",
       "\n",
       "               Timestamp                                   User     Platform  \\\n",
       "0    2023-01-15 12:30:00                          User123          Twitter     \n",
       "1    2023-01-15 08:45:00                          CommuterX        Twitter     \n",
       "2    2023-01-15 15:45:00                          FitnessFan      Instagram    \n",
       "3    2023-01-15 18:20:00                          AdventureX       Facebook    \n",
       "4    2023-01-15 19:55:00                          ChefCook        Instagram    \n",
       "..                   ...                                    ...          ...   \n",
       "727  2017-08-18 18:20:00       ScienceProjectSuccessHighSchool     Facebook    \n",
       "728  2018-06-22 14:15:00            BirthdayPartyJoyHighSchool    Instagram    \n",
       "729  2019-04-05 17:30:00   CharityFundraisingTriumphHighSchool      Twitter    \n",
       "730  2020-02-29 20:45:00    MulticulturalFestivalJoyHighSchool     Facebook    \n",
       "731  2020-11-15 15:15:00    VirtualTalentShowSuccessHighSchool    Instagram    \n",
       "\n",
       "                                          Hashtags  Retweets  Likes  \\\n",
       "0        #Nature #Park                                  15.0   30.0   \n",
       "1        #Traffic #Morning                               5.0   10.0   \n",
       "2        #Fitness #Workout                              20.0   40.0   \n",
       "3        #Travel #Adventure                              8.0   15.0   \n",
       "4        #Cooking #Food                                 12.0   25.0   \n",
       "..                                             ...       ...    ...   \n",
       "727         #ScienceFairWinner #HighSchoolScience       20.0   39.0   \n",
       "728    #SurpriseCelebration #HighSchoolFriendship       25.0   48.0   \n",
       "729      #CommunityGiving #HighSchoolPhilanthropy       22.0   42.0   \n",
       "730         #CulturalCelebration #HighSchoolUnity       21.0   43.0   \n",
       "731   #VirtualEntertainment #HighSchoolPositivity       24.0   47.0   \n",
       "\n",
       "          Country  Year  Month  Day  Hour  \n",
       "0       USA        2023      1   15    12  \n",
       "1       Canada     2023      1   15     8  \n",
       "2     USA          2023      1   15    15  \n",
       "3       UK         2023      1   15    18  \n",
       "4      Australia   2023      1   15    19  \n",
       "..            ...   ...    ...  ...   ...  \n",
       "727            UK  2017      8   18    18  \n",
       "728           USA  2018      6   22    14  \n",
       "729        Canada  2019      4    5    17  \n",
       "730            UK  2020      2   29    20  \n",
       "731           USA  2020     11   15    15  \n",
       "\n",
       "[732 rows x 15 columns]"
      ]
     },
     "execution_count": 4,
     "metadata": {},
     "output_type": "execute_result"
    }
   ],
   "source": [
    "df"
   ]
  },
  {
   "cell_type": "code",
   "execution_count": 5,
   "id": "f77b2344",
   "metadata": {},
   "outputs": [
    {
     "data": {
      "text/plain": [
       "(732, 15)"
      ]
     },
     "execution_count": 5,
     "metadata": {},
     "output_type": "execute_result"
    }
   ],
   "source": [
    "df.shape"
   ]
  },
  {
   "cell_type": "code",
   "execution_count": 6,
   "id": "b20451d3",
   "metadata": {},
   "outputs": [
    {
     "data": {
      "text/html": [
       "<div>\n",
       "<style scoped>\n",
       "    .dataframe tbody tr th:only-of-type {\n",
       "        vertical-align: middle;\n",
       "    }\n",
       "\n",
       "    .dataframe tbody tr th {\n",
       "        vertical-align: top;\n",
       "    }\n",
       "\n",
       "    .dataframe thead th {\n",
       "        text-align: right;\n",
       "    }\n",
       "</style>\n",
       "<table border=\"1\" class=\"dataframe\">\n",
       "  <thead>\n",
       "    <tr style=\"text-align: right;\">\n",
       "      <th></th>\n",
       "      <th>Unnamed: 0.1</th>\n",
       "      <th>Unnamed: 0</th>\n",
       "      <th>Text</th>\n",
       "      <th>Sentiment</th>\n",
       "      <th>Timestamp</th>\n",
       "      <th>User</th>\n",
       "      <th>Platform</th>\n",
       "      <th>Hashtags</th>\n",
       "      <th>Retweets</th>\n",
       "      <th>Likes</th>\n",
       "      <th>Country</th>\n",
       "      <th>Year</th>\n",
       "      <th>Month</th>\n",
       "      <th>Day</th>\n",
       "      <th>Hour</th>\n",
       "    </tr>\n",
       "  </thead>\n",
       "  <tbody>\n",
       "    <tr>\n",
       "      <th>0</th>\n",
       "      <td>0</td>\n",
       "      <td>0</td>\n",
       "      <td>Enjoying a beautiful day at the park!        ...</td>\n",
       "      <td>Positive</td>\n",
       "      <td>2023-01-15 12:30:00</td>\n",
       "      <td>User123</td>\n",
       "      <td>Twitter</td>\n",
       "      <td>#Nature #Park</td>\n",
       "      <td>15.0</td>\n",
       "      <td>30.0</td>\n",
       "      <td>USA</td>\n",
       "      <td>2023</td>\n",
       "      <td>1</td>\n",
       "      <td>15</td>\n",
       "      <td>12</td>\n",
       "    </tr>\n",
       "    <tr>\n",
       "      <th>1</th>\n",
       "      <td>1</td>\n",
       "      <td>1</td>\n",
       "      <td>Traffic was terrible this morning.           ...</td>\n",
       "      <td>Negative</td>\n",
       "      <td>2023-01-15 08:45:00</td>\n",
       "      <td>CommuterX</td>\n",
       "      <td>Twitter</td>\n",
       "      <td>#Traffic #Morning</td>\n",
       "      <td>5.0</td>\n",
       "      <td>10.0</td>\n",
       "      <td>Canada</td>\n",
       "      <td>2023</td>\n",
       "      <td>1</td>\n",
       "      <td>15</td>\n",
       "      <td>8</td>\n",
       "    </tr>\n",
       "    <tr>\n",
       "      <th>2</th>\n",
       "      <td>2</td>\n",
       "      <td>2</td>\n",
       "      <td>Just finished an amazing workout! 💪          ...</td>\n",
       "      <td>Positive</td>\n",
       "      <td>2023-01-15 15:45:00</td>\n",
       "      <td>FitnessFan</td>\n",
       "      <td>Instagram</td>\n",
       "      <td>#Fitness #Workout</td>\n",
       "      <td>20.0</td>\n",
       "      <td>40.0</td>\n",
       "      <td>USA</td>\n",
       "      <td>2023</td>\n",
       "      <td>1</td>\n",
       "      <td>15</td>\n",
       "      <td>15</td>\n",
       "    </tr>\n",
       "    <tr>\n",
       "      <th>3</th>\n",
       "      <td>3</td>\n",
       "      <td>3</td>\n",
       "      <td>Excited about the upcoming weekend getaway!  ...</td>\n",
       "      <td>Positive</td>\n",
       "      <td>2023-01-15 18:20:00</td>\n",
       "      <td>AdventureX</td>\n",
       "      <td>Facebook</td>\n",
       "      <td>#Travel #Adventure</td>\n",
       "      <td>8.0</td>\n",
       "      <td>15.0</td>\n",
       "      <td>UK</td>\n",
       "      <td>2023</td>\n",
       "      <td>1</td>\n",
       "      <td>15</td>\n",
       "      <td>18</td>\n",
       "    </tr>\n",
       "    <tr>\n",
       "      <th>4</th>\n",
       "      <td>4</td>\n",
       "      <td>4</td>\n",
       "      <td>Trying out a new recipe for dinner tonight.  ...</td>\n",
       "      <td>Neutral</td>\n",
       "      <td>2023-01-15 19:55:00</td>\n",
       "      <td>ChefCook</td>\n",
       "      <td>Instagram</td>\n",
       "      <td>#Cooking #Food</td>\n",
       "      <td>12.0</td>\n",
       "      <td>25.0</td>\n",
       "      <td>Australia</td>\n",
       "      <td>2023</td>\n",
       "      <td>1</td>\n",
       "      <td>15</td>\n",
       "      <td>19</td>\n",
       "    </tr>\n",
       "    <tr>\n",
       "      <th>...</th>\n",
       "      <td>...</td>\n",
       "      <td>...</td>\n",
       "      <td>...</td>\n",
       "      <td>...</td>\n",
       "      <td>...</td>\n",
       "      <td>...</td>\n",
       "      <td>...</td>\n",
       "      <td>...</td>\n",
       "      <td>...</td>\n",
       "      <td>...</td>\n",
       "      <td>...</td>\n",
       "      <td>...</td>\n",
       "      <td>...</td>\n",
       "      <td>...</td>\n",
       "      <td>...</td>\n",
       "    </tr>\n",
       "    <tr>\n",
       "      <th>727</th>\n",
       "      <td>728</td>\n",
       "      <td>732</td>\n",
       "      <td>Collaborating on a science project that receiv...</td>\n",
       "      <td>Happy</td>\n",
       "      <td>2017-08-18 18:20:00</td>\n",
       "      <td>ScienceProjectSuccessHighSchool</td>\n",
       "      <td>Facebook</td>\n",
       "      <td>#ScienceFairWinner #HighSchoolScience</td>\n",
       "      <td>20.0</td>\n",
       "      <td>39.0</td>\n",
       "      <td>UK</td>\n",
       "      <td>2017</td>\n",
       "      <td>8</td>\n",
       "      <td>18</td>\n",
       "      <td>18</td>\n",
       "    </tr>\n",
       "    <tr>\n",
       "      <th>728</th>\n",
       "      <td>729</td>\n",
       "      <td>733</td>\n",
       "      <td>Attending a surprise birthday party organized ...</td>\n",
       "      <td>Happy</td>\n",
       "      <td>2018-06-22 14:15:00</td>\n",
       "      <td>BirthdayPartyJoyHighSchool</td>\n",
       "      <td>Instagram</td>\n",
       "      <td>#SurpriseCelebration #HighSchoolFriendship</td>\n",
       "      <td>25.0</td>\n",
       "      <td>48.0</td>\n",
       "      <td>USA</td>\n",
       "      <td>2018</td>\n",
       "      <td>6</td>\n",
       "      <td>22</td>\n",
       "      <td>14</td>\n",
       "    </tr>\n",
       "    <tr>\n",
       "      <th>729</th>\n",
       "      <td>730</td>\n",
       "      <td>734</td>\n",
       "      <td>Successfully fundraising for a school charity ...</td>\n",
       "      <td>Happy</td>\n",
       "      <td>2019-04-05 17:30:00</td>\n",
       "      <td>CharityFundraisingTriumphHighSchool</td>\n",
       "      <td>Twitter</td>\n",
       "      <td>#CommunityGiving #HighSchoolPhilanthropy</td>\n",
       "      <td>22.0</td>\n",
       "      <td>42.0</td>\n",
       "      <td>Canada</td>\n",
       "      <td>2019</td>\n",
       "      <td>4</td>\n",
       "      <td>5</td>\n",
       "      <td>17</td>\n",
       "    </tr>\n",
       "    <tr>\n",
       "      <th>730</th>\n",
       "      <td>731</td>\n",
       "      <td>735</td>\n",
       "      <td>Participating in a multicultural festival, cel...</td>\n",
       "      <td>Happy</td>\n",
       "      <td>2020-02-29 20:45:00</td>\n",
       "      <td>MulticulturalFestivalJoyHighSchool</td>\n",
       "      <td>Facebook</td>\n",
       "      <td>#CulturalCelebration #HighSchoolUnity</td>\n",
       "      <td>21.0</td>\n",
       "      <td>43.0</td>\n",
       "      <td>UK</td>\n",
       "      <td>2020</td>\n",
       "      <td>2</td>\n",
       "      <td>29</td>\n",
       "      <td>20</td>\n",
       "    </tr>\n",
       "    <tr>\n",
       "      <th>731</th>\n",
       "      <td>732</td>\n",
       "      <td>736</td>\n",
       "      <td>Organizing a virtual talent show during challe...</td>\n",
       "      <td>Happy</td>\n",
       "      <td>2020-11-15 15:15:00</td>\n",
       "      <td>VirtualTalentShowSuccessHighSchool</td>\n",
       "      <td>Instagram</td>\n",
       "      <td>#VirtualEntertainment #HighSchoolPositivity</td>\n",
       "      <td>24.0</td>\n",
       "      <td>47.0</td>\n",
       "      <td>USA</td>\n",
       "      <td>2020</td>\n",
       "      <td>11</td>\n",
       "      <td>15</td>\n",
       "      <td>15</td>\n",
       "    </tr>\n",
       "  </tbody>\n",
       "</table>\n",
       "<p>732 rows × 15 columns</p>\n",
       "</div>"
      ],
      "text/plain": [
       "     Unnamed: 0.1  Unnamed: 0  \\\n",
       "0               0           0   \n",
       "1               1           1   \n",
       "2               2           2   \n",
       "3               3           3   \n",
       "4               4           4   \n",
       "..            ...         ...   \n",
       "727           728         732   \n",
       "728           729         733   \n",
       "729           730         734   \n",
       "730           731         735   \n",
       "731           732         736   \n",
       "\n",
       "                                                  Text    Sentiment  \\\n",
       "0     Enjoying a beautiful day at the park!        ...   Positive     \n",
       "1     Traffic was terrible this morning.           ...   Negative     \n",
       "2     Just finished an amazing workout! 💪          ...   Positive     \n",
       "3     Excited about the upcoming weekend getaway!  ...   Positive     \n",
       "4     Trying out a new recipe for dinner tonight.  ...   Neutral      \n",
       "..                                                 ...          ...   \n",
       "727  Collaborating on a science project that receiv...       Happy    \n",
       "728  Attending a surprise birthday party organized ...       Happy    \n",
       "729  Successfully fundraising for a school charity ...       Happy    \n",
       "730  Participating in a multicultural festival, cel...       Happy    \n",
       "731  Organizing a virtual talent show during challe...       Happy    \n",
       "\n",
       "               Timestamp                                   User     Platform  \\\n",
       "0    2023-01-15 12:30:00                          User123          Twitter     \n",
       "1    2023-01-15 08:45:00                          CommuterX        Twitter     \n",
       "2    2023-01-15 15:45:00                          FitnessFan      Instagram    \n",
       "3    2023-01-15 18:20:00                          AdventureX       Facebook    \n",
       "4    2023-01-15 19:55:00                          ChefCook        Instagram    \n",
       "..                   ...                                    ...          ...   \n",
       "727  2017-08-18 18:20:00       ScienceProjectSuccessHighSchool     Facebook    \n",
       "728  2018-06-22 14:15:00            BirthdayPartyJoyHighSchool    Instagram    \n",
       "729  2019-04-05 17:30:00   CharityFundraisingTriumphHighSchool      Twitter    \n",
       "730  2020-02-29 20:45:00    MulticulturalFestivalJoyHighSchool     Facebook    \n",
       "731  2020-11-15 15:15:00    VirtualTalentShowSuccessHighSchool    Instagram    \n",
       "\n",
       "                                          Hashtags  Retweets  Likes  \\\n",
       "0        #Nature #Park                                  15.0   30.0   \n",
       "1        #Traffic #Morning                               5.0   10.0   \n",
       "2        #Fitness #Workout                              20.0   40.0   \n",
       "3        #Travel #Adventure                              8.0   15.0   \n",
       "4        #Cooking #Food                                 12.0   25.0   \n",
       "..                                             ...       ...    ...   \n",
       "727         #ScienceFairWinner #HighSchoolScience       20.0   39.0   \n",
       "728    #SurpriseCelebration #HighSchoolFriendship       25.0   48.0   \n",
       "729      #CommunityGiving #HighSchoolPhilanthropy       22.0   42.0   \n",
       "730         #CulturalCelebration #HighSchoolUnity       21.0   43.0   \n",
       "731   #VirtualEntertainment #HighSchoolPositivity       24.0   47.0   \n",
       "\n",
       "          Country  Year  Month  Day  Hour  \n",
       "0       USA        2023      1   15    12  \n",
       "1       Canada     2023      1   15     8  \n",
       "2     USA          2023      1   15    15  \n",
       "3       UK         2023      1   15    18  \n",
       "4      Australia   2023      1   15    19  \n",
       "..            ...   ...    ...  ...   ...  \n",
       "727            UK  2017      8   18    18  \n",
       "728           USA  2018      6   22    14  \n",
       "729        Canada  2019      4    5    17  \n",
       "730            UK  2020      2   29    20  \n",
       "731           USA  2020     11   15    15  \n",
       "\n",
       "[732 rows x 15 columns]"
      ]
     },
     "execution_count": 6,
     "metadata": {},
     "output_type": "execute_result"
    }
   ],
   "source": [
    "df"
   ]
  },
  {
   "cell_type": "code",
   "execution_count": 7,
   "id": "b26203a7",
   "metadata": {},
   "outputs": [
    {
     "data": {
      "text/html": [
       "<div>\n",
       "<style scoped>\n",
       "    .dataframe tbody tr th:only-of-type {\n",
       "        vertical-align: middle;\n",
       "    }\n",
       "\n",
       "    .dataframe tbody tr th {\n",
       "        vertical-align: top;\n",
       "    }\n",
       "\n",
       "    .dataframe thead th {\n",
       "        text-align: right;\n",
       "    }\n",
       "</style>\n",
       "<table border=\"1\" class=\"dataframe\">\n",
       "  <thead>\n",
       "    <tr style=\"text-align: right;\">\n",
       "      <th></th>\n",
       "      <th>Text</th>\n",
       "      <th>Sentiment</th>\n",
       "      <th>Timestamp</th>\n",
       "      <th>User</th>\n",
       "      <th>Platform</th>\n",
       "      <th>Hashtags</th>\n",
       "      <th>Retweets</th>\n",
       "      <th>Likes</th>\n",
       "      <th>Country</th>\n",
       "      <th>Year</th>\n",
       "      <th>Month</th>\n",
       "      <th>Day</th>\n",
       "      <th>Hour</th>\n",
       "    </tr>\n",
       "  </thead>\n",
       "  <tbody>\n",
       "    <tr>\n",
       "      <th>0</th>\n",
       "      <td>Enjoying a beautiful day at the park!        ...</td>\n",
       "      <td>Positive</td>\n",
       "      <td>2023-01-15 12:30:00</td>\n",
       "      <td>User123</td>\n",
       "      <td>Twitter</td>\n",
       "      <td>#Nature #Park</td>\n",
       "      <td>15.0</td>\n",
       "      <td>30.0</td>\n",
       "      <td>USA</td>\n",
       "      <td>2023</td>\n",
       "      <td>1</td>\n",
       "      <td>15</td>\n",
       "      <td>12</td>\n",
       "    </tr>\n",
       "    <tr>\n",
       "      <th>1</th>\n",
       "      <td>Traffic was terrible this morning.           ...</td>\n",
       "      <td>Negative</td>\n",
       "      <td>2023-01-15 08:45:00</td>\n",
       "      <td>CommuterX</td>\n",
       "      <td>Twitter</td>\n",
       "      <td>#Traffic #Morning</td>\n",
       "      <td>5.0</td>\n",
       "      <td>10.0</td>\n",
       "      <td>Canada</td>\n",
       "      <td>2023</td>\n",
       "      <td>1</td>\n",
       "      <td>15</td>\n",
       "      <td>8</td>\n",
       "    </tr>\n",
       "    <tr>\n",
       "      <th>2</th>\n",
       "      <td>Just finished an amazing workout! 💪          ...</td>\n",
       "      <td>Positive</td>\n",
       "      <td>2023-01-15 15:45:00</td>\n",
       "      <td>FitnessFan</td>\n",
       "      <td>Instagram</td>\n",
       "      <td>#Fitness #Workout</td>\n",
       "      <td>20.0</td>\n",
       "      <td>40.0</td>\n",
       "      <td>USA</td>\n",
       "      <td>2023</td>\n",
       "      <td>1</td>\n",
       "      <td>15</td>\n",
       "      <td>15</td>\n",
       "    </tr>\n",
       "    <tr>\n",
       "      <th>3</th>\n",
       "      <td>Excited about the upcoming weekend getaway!  ...</td>\n",
       "      <td>Positive</td>\n",
       "      <td>2023-01-15 18:20:00</td>\n",
       "      <td>AdventureX</td>\n",
       "      <td>Facebook</td>\n",
       "      <td>#Travel #Adventure</td>\n",
       "      <td>8.0</td>\n",
       "      <td>15.0</td>\n",
       "      <td>UK</td>\n",
       "      <td>2023</td>\n",
       "      <td>1</td>\n",
       "      <td>15</td>\n",
       "      <td>18</td>\n",
       "    </tr>\n",
       "    <tr>\n",
       "      <th>4</th>\n",
       "      <td>Trying out a new recipe for dinner tonight.  ...</td>\n",
       "      <td>Neutral</td>\n",
       "      <td>2023-01-15 19:55:00</td>\n",
       "      <td>ChefCook</td>\n",
       "      <td>Instagram</td>\n",
       "      <td>#Cooking #Food</td>\n",
       "      <td>12.0</td>\n",
       "      <td>25.0</td>\n",
       "      <td>Australia</td>\n",
       "      <td>2023</td>\n",
       "      <td>1</td>\n",
       "      <td>15</td>\n",
       "      <td>19</td>\n",
       "    </tr>\n",
       "    <tr>\n",
       "      <th>...</th>\n",
       "      <td>...</td>\n",
       "      <td>...</td>\n",
       "      <td>...</td>\n",
       "      <td>...</td>\n",
       "      <td>...</td>\n",
       "      <td>...</td>\n",
       "      <td>...</td>\n",
       "      <td>...</td>\n",
       "      <td>...</td>\n",
       "      <td>...</td>\n",
       "      <td>...</td>\n",
       "      <td>...</td>\n",
       "      <td>...</td>\n",
       "    </tr>\n",
       "    <tr>\n",
       "      <th>727</th>\n",
       "      <td>Collaborating on a science project that receiv...</td>\n",
       "      <td>Happy</td>\n",
       "      <td>2017-08-18 18:20:00</td>\n",
       "      <td>ScienceProjectSuccessHighSchool</td>\n",
       "      <td>Facebook</td>\n",
       "      <td>#ScienceFairWinner #HighSchoolScience</td>\n",
       "      <td>20.0</td>\n",
       "      <td>39.0</td>\n",
       "      <td>UK</td>\n",
       "      <td>2017</td>\n",
       "      <td>8</td>\n",
       "      <td>18</td>\n",
       "      <td>18</td>\n",
       "    </tr>\n",
       "    <tr>\n",
       "      <th>728</th>\n",
       "      <td>Attending a surprise birthday party organized ...</td>\n",
       "      <td>Happy</td>\n",
       "      <td>2018-06-22 14:15:00</td>\n",
       "      <td>BirthdayPartyJoyHighSchool</td>\n",
       "      <td>Instagram</td>\n",
       "      <td>#SurpriseCelebration #HighSchoolFriendship</td>\n",
       "      <td>25.0</td>\n",
       "      <td>48.0</td>\n",
       "      <td>USA</td>\n",
       "      <td>2018</td>\n",
       "      <td>6</td>\n",
       "      <td>22</td>\n",
       "      <td>14</td>\n",
       "    </tr>\n",
       "    <tr>\n",
       "      <th>729</th>\n",
       "      <td>Successfully fundraising for a school charity ...</td>\n",
       "      <td>Happy</td>\n",
       "      <td>2019-04-05 17:30:00</td>\n",
       "      <td>CharityFundraisingTriumphHighSchool</td>\n",
       "      <td>Twitter</td>\n",
       "      <td>#CommunityGiving #HighSchoolPhilanthropy</td>\n",
       "      <td>22.0</td>\n",
       "      <td>42.0</td>\n",
       "      <td>Canada</td>\n",
       "      <td>2019</td>\n",
       "      <td>4</td>\n",
       "      <td>5</td>\n",
       "      <td>17</td>\n",
       "    </tr>\n",
       "    <tr>\n",
       "      <th>730</th>\n",
       "      <td>Participating in a multicultural festival, cel...</td>\n",
       "      <td>Happy</td>\n",
       "      <td>2020-02-29 20:45:00</td>\n",
       "      <td>MulticulturalFestivalJoyHighSchool</td>\n",
       "      <td>Facebook</td>\n",
       "      <td>#CulturalCelebration #HighSchoolUnity</td>\n",
       "      <td>21.0</td>\n",
       "      <td>43.0</td>\n",
       "      <td>UK</td>\n",
       "      <td>2020</td>\n",
       "      <td>2</td>\n",
       "      <td>29</td>\n",
       "      <td>20</td>\n",
       "    </tr>\n",
       "    <tr>\n",
       "      <th>731</th>\n",
       "      <td>Organizing a virtual talent show during challe...</td>\n",
       "      <td>Happy</td>\n",
       "      <td>2020-11-15 15:15:00</td>\n",
       "      <td>VirtualTalentShowSuccessHighSchool</td>\n",
       "      <td>Instagram</td>\n",
       "      <td>#VirtualEntertainment #HighSchoolPositivity</td>\n",
       "      <td>24.0</td>\n",
       "      <td>47.0</td>\n",
       "      <td>USA</td>\n",
       "      <td>2020</td>\n",
       "      <td>11</td>\n",
       "      <td>15</td>\n",
       "      <td>15</td>\n",
       "    </tr>\n",
       "  </tbody>\n",
       "</table>\n",
       "<p>732 rows × 13 columns</p>\n",
       "</div>"
      ],
      "text/plain": [
       "                                                  Text    Sentiment  \\\n",
       "0     Enjoying a beautiful day at the park!        ...   Positive     \n",
       "1     Traffic was terrible this morning.           ...   Negative     \n",
       "2     Just finished an amazing workout! 💪          ...   Positive     \n",
       "3     Excited about the upcoming weekend getaway!  ...   Positive     \n",
       "4     Trying out a new recipe for dinner tonight.  ...   Neutral      \n",
       "..                                                 ...          ...   \n",
       "727  Collaborating on a science project that receiv...       Happy    \n",
       "728  Attending a surprise birthday party organized ...       Happy    \n",
       "729  Successfully fundraising for a school charity ...       Happy    \n",
       "730  Participating in a multicultural festival, cel...       Happy    \n",
       "731  Organizing a virtual talent show during challe...       Happy    \n",
       "\n",
       "               Timestamp                                   User     Platform  \\\n",
       "0    2023-01-15 12:30:00                          User123          Twitter     \n",
       "1    2023-01-15 08:45:00                          CommuterX        Twitter     \n",
       "2    2023-01-15 15:45:00                          FitnessFan      Instagram    \n",
       "3    2023-01-15 18:20:00                          AdventureX       Facebook    \n",
       "4    2023-01-15 19:55:00                          ChefCook        Instagram    \n",
       "..                   ...                                    ...          ...   \n",
       "727  2017-08-18 18:20:00       ScienceProjectSuccessHighSchool     Facebook    \n",
       "728  2018-06-22 14:15:00            BirthdayPartyJoyHighSchool    Instagram    \n",
       "729  2019-04-05 17:30:00   CharityFundraisingTriumphHighSchool      Twitter    \n",
       "730  2020-02-29 20:45:00    MulticulturalFestivalJoyHighSchool     Facebook    \n",
       "731  2020-11-15 15:15:00    VirtualTalentShowSuccessHighSchool    Instagram    \n",
       "\n",
       "                                          Hashtags  Retweets  Likes  \\\n",
       "0        #Nature #Park                                  15.0   30.0   \n",
       "1        #Traffic #Morning                               5.0   10.0   \n",
       "2        #Fitness #Workout                              20.0   40.0   \n",
       "3        #Travel #Adventure                              8.0   15.0   \n",
       "4        #Cooking #Food                                 12.0   25.0   \n",
       "..                                             ...       ...    ...   \n",
       "727         #ScienceFairWinner #HighSchoolScience       20.0   39.0   \n",
       "728    #SurpriseCelebration #HighSchoolFriendship       25.0   48.0   \n",
       "729      #CommunityGiving #HighSchoolPhilanthropy       22.0   42.0   \n",
       "730         #CulturalCelebration #HighSchoolUnity       21.0   43.0   \n",
       "731   #VirtualEntertainment #HighSchoolPositivity       24.0   47.0   \n",
       "\n",
       "          Country  Year  Month  Day  Hour  \n",
       "0       USA        2023      1   15    12  \n",
       "1       Canada     2023      1   15     8  \n",
       "2     USA          2023      1   15    15  \n",
       "3       UK         2023      1   15    18  \n",
       "4      Australia   2023      1   15    19  \n",
       "..            ...   ...    ...  ...   ...  \n",
       "727            UK  2017      8   18    18  \n",
       "728           USA  2018      6   22    14  \n",
       "729        Canada  2019      4    5    17  \n",
       "730            UK  2020      2   29    20  \n",
       "731           USA  2020     11   15    15  \n",
       "\n",
       "[732 rows x 13 columns]"
      ]
     },
     "execution_count": 7,
     "metadata": {},
     "output_type": "execute_result"
    }
   ],
   "source": [
    "df.drop(df.columns[[0,1]],axis=1)"
   ]
  },
  {
   "cell_type": "code",
   "execution_count": 8,
   "id": "4917e4d9",
   "metadata": {},
   "outputs": [
    {
     "data": {
      "image/png": "[encoded data removed]",
      "text/plain": [
       "<Figure size 800x800 with 1 Axes>"
      ]
     },
     "metadata": {},
     "output_type": "display_data"
    }
   ],
   "source": [
    "# Calculate the size of each category\n",
    "category_sizes = df['Platform'].value_counts()\n",
    "\n",
    "# Create a pie chart\n",
    "plt.figure(figsize=(8, 8))\n",
    "plt.pie(category_sizes, labels=category_sizes.index, autopct='%1.1f%%', startangle=140)\n",
    "plt.title('Distribution of Platforms')\n",
    "plt.show()"
   ]
  },
  {
   "cell_type": "code",
   "execution_count": 9,
   "id": "2728b111",
   "metadata": {},
   "outputs": [
    {
     "name": "stdout",
     "output_type": "stream",
     "text": [
      "   Unnamed: 0.1  Unnamed: 0  \\\n",
      "0     -1.733763   -1.741727   \n",
      "1     -1.729032   -1.737017   \n",
      "2     -1.724301   -1.732306   \n",
      "3     -1.719570   -1.727595   \n",
      "4     -1.714839   -1.722884   \n",
      "\n",
      "                                                Text  Sentiment  \\\n",
      "0   Enjoying a beautiful day at the park!        ...   1.025909   \n",
      "1   Traffic was terrible this morning.           ...   0.768055   \n",
      "2   Just finished an amazing workout! 💪          ...   1.025909   \n",
      "3   Excited about the upcoming weekend getaway!  ...   1.025909   \n",
      "4   Trying out a new recipe for dinner tonight.  ...   0.795197   \n",
      "\n",
      "             Timestamp            User     Platform  \\\n",
      "0  2023-01-15 12:30:00   User123          Twitter     \n",
      "1  2023-01-15 08:45:00   CommuterX        Twitter     \n",
      "2  2023-01-15 15:45:00   FitnessFan      Instagram    \n",
      "3  2023-01-15 18:20:00   AdventureX       Facebook    \n",
      "4  2023-01-15 19:55:00   ChefCook        Instagram    \n",
      "\n",
      "                                     Hashtags  Retweets     Likes  \\\n",
      "0   #Nature #Park                             -0.922303 -0.916295   \n",
      "1   #Traffic #Morning                         -2.339444 -2.336727   \n",
      "2   #Fitness #Workout                         -0.213733 -0.206079   \n",
      "3   #Travel #Adventure                        -1.914302 -1.981619   \n",
      "4   #Cooking #Food                            -1.347445 -1.271403   \n",
      "\n",
      "        Country      Year     Month       Day      Hour  \n",
      "0     USA        0.902984 -1.502582 -0.058718 -0.856774  \n",
      "1     Canada     0.902984 -1.502582 -0.058718 -1.829867  \n",
      "2   USA          0.902984 -1.502582 -0.058718 -0.126954  \n",
      "3     UK         0.902984 -1.502582 -0.058718  0.602866  \n",
      "4    Australia   0.902984 -1.502582 -0.058718  0.846139  \n"
     ]
    }
   ],
   "source": [
    "from sklearn.preprocessing import LabelEncoder, StandardScaler\n",
    "\n",
    "# Drop rows with missing values\n",
    "df = df.dropna()\n",
    "\n",
    "# Encode categorical variables\n",
    "label_encoder = LabelEncoder()\n",
    "df['Sentiment'] = label_encoder.fit_transform(df['Sentiment'])\n",
    "\n",
    "# Normalize numerical features\n",
    "scaler = StandardScaler()\n",
    "numerical_columns = df.select_dtypes(include=['float64', 'int64']).columns\n",
    "df[numerical_columns] = scaler.fit_transform(df[numerical_columns])\n",
    "\n",
    "print(df.head())"
   ]
  },
  {
   "cell_type": "code",
   "execution_count": 10,
   "id": "c5314fc1",
   "metadata": {},
   "outputs": [
    {
     "name": "stdout",
     "output_type": "stream",
     "text": [
      "                                                Text  \\\n",
      "0   Enjoying a beautiful day at the park!        ...   \n",
      "1   Traffic was terrible this morning.           ...   \n",
      "2   Just finished an amazing workout! 💪          ...   \n",
      "3   Excited about the upcoming weekend getaway!  ...   \n",
      "4   Trying out a new recipe for dinner tonight.  ...   \n",
      "\n",
      "                                 Cleaned_Text  \n",
      "0        enjoying a beautiful day at the park  \n",
      "1           traffic was terrible this morning  \n",
      "2            just finished an amazing workout  \n",
      "3  excited about the upcoming weekend getaway  \n",
      "4  trying out a new recipe for dinner tonight  \n"
     ]
    }
   ],
   "source": [
    "import re\n",
    "\n",
    "# Function to preprocess text\n",
    "def preprocess_text(text):\n",
    "    # Convert text to lowercase\n",
    "    text = text.lower()\n",
    "    # Remove URLs\n",
    "    text = re.sub(r'http\\S+|www\\S+|https\\S+', '', text, flags=re.MULTILINE)\n",
    "    # Remove special characters and numbers\n",
    "    text = re.sub(r'\\W+|\\d+', ' ', text)\n",
    "    # Remove extra spaces\n",
    "    text = re.sub(r'\\s+', ' ', text).strip()\n",
    "    return text\n",
    "\n",
    "# Apply preprocessing to the 'Text' column\n",
    "df['Cleaned_Text'] = df['Text'].apply(preprocess_text)\n",
    "\n",
    "# Display the first few rows of the updated dataframe\n",
    "print(df[['Text', 'Cleaned_Text']].head())"
   ]
  },
  {
   "cell_type": "code",
   "execution_count": 11,
   "id": "ea067b12",
   "metadata": {},
   "outputs": [
    {
     "name": "stdout",
     "output_type": "stream",
     "text": [
      "Requirement already satisfied: xgboost in c:\\users\\kaushik\\appdata\\local\\programs\\python\\python312\\lib\\site-packages (3.0.0)\n",
      "Requirement already satisfied: numpy in c:\\users\\kaushik\\appdata\\local\\programs\\python\\python312\\lib\\site-packages (from xgboost) (2.1.3)\n",
      "Requirement already satisfied: scipy in c:\\users\\kaushik\\appdata\\local\\programs\\python\\python312\\lib\\site-packages (from xgboost) (1.15.2)\n",
      "Note: you may need to restart the kernel to use updated packages.\n"
     ]
    }
   ],
   "source": [
    "pip install xgboost"
   ]
  },
  {
   "cell_type": "code",
   "execution_count": 12,
   "id": "698bbea9",
   "metadata": {},
   "outputs": [
    {
     "data": {
      "application/vnd.plotly.v1+json": {
       "config": {
        "plotlyServerURL": "https://plot.ly"
       },
       "data": [
        {
         "hovertemplate": "Retweets=%{x}<br>Likes=%{y}<extra></extra>",
         "legendgroup": "",
         "marker": {
          "color": "#636efa",
          "symbol": "circle"
         },
         "mode": "markers",
         "name": "",
         "orientation": "v",
         "showlegend": false,
         "type": "scatter",
         "x": {
          "bdata": "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",
          "dtype": "f8"
         },
         "xaxis": "x",
         "y": {
          "bdata": "e6/eY0pS7b8FO+UvnrECwLhEDtjMYMq/d65TlLa0/79RH2b9qlf0vx+N1/fjIeA/5ObcyDAG+r97r95jSlLtv7ZV2ZL9bfM/VCDxzD714b/i96eDYRPDP3euU5S2tP+/UR9m/apX9L9FHMWO737rP3uv3mNKUu2/uEQO2Mxgyr97r95jSlLtv1Qg8cw+9eG/H43X9+Mh4D93rlOUtrT/v+L3p4NhE8M/e6/eY0pS7b+2VdmS/W3zP7hEDtjMYMq/UR9m/apX9L97r95jSlLtvx+N1/fjIeA/e6/eY0pS7b/i96eDYRPDP1EfZv2qV/S/VCDxzD714b97r95jSlLtv7ZV2ZL9bfM/H43X9+Mh4D97r95jSlLtv+L3p4NhE8M/VCDxzD714b97r95jSlLtv1EfZv2qV/S/tlXZkv1t8z8fjdf34yHgP3uv3mNKUu2/4veng2ETwz9UIPHMPvXhv3uv3mNKUu2/UR9m/apX9L9FHMWO737rP3uv3mNKUu2/uEQO2Mxgyr97r95jSlLtv+L3p4NhE8M/VCDxzD714b+4RA7YzGDKv3uv3mNKUu2/H43X9+Mh4D9UIPHMPvXhv7ZV2ZL9bfM/4veng2ETwz97r95jSlLtv1Qg8cw+9eG/H43X9+Mh4D+4RA7YzGDKv3uv3mNKUu2/4veng2ETwz9UIPHMPvXhvx+N1/fjIeA/e6/eY0pS7b/i96eDYRPDP7hEDtjMYMq/VCDxzD714b97r95jSlLtvx+N1/fjIeA/4veng2ETwz+4RA7YzGDKv7ZV2ZL9bfM/e6/eY0pS7b+4RA7YzGDKv3uv3mNKUu2/H43X9+Mh4D9UIPHMPvXhv7ZV2ZL9bfM/4veng2ETwz97r95jSlLtv1Qg8cw+9eG/H43X9+Mh4D+4RA7YzGDKv3uv3mNKUu2/4veng2ETwz9UIPHMPvXhvx+N1/fjIeA/e6/eY0pS7b/i96eDYRPDP7hEDtjMYMq/VCDxzD714b97r95jSlLtvx+N1/fjIeA/4veng2ETwz+4RA7YzGDKv7ZV2ZL9bfM/e6/eY0pS7b/i96eDYRPDP1Qg8cw+9eG/e6/eY0pS7b97r95jSlLtv7ZV2ZL9bfM/H43X9+Mh4D/i96eDYRPDP1EfZv2qV/S/e6/eY0pS7b+4RA7YzGDKv3uv3mNKUu2/H43X9+Mh4D9UIPHMPvXhv7ZV2ZL9bfM/4veng2ETwz97r95jSlLtv1Qg8cw+9eG/H43X9+Mh4D+4RA7YzGDKv3uv3mNKUu2/4veng2ETwz9UIPHMPvXhvx+N1/fjIeA/e6/eY0pS7b+2VdmS/W3zP+L3p4NhE8M/e6/eY0pS7b9UIPHMPvXhvx+N1/fjIeA/VCDxzD714b8fjdf34yHgP7hEDtjMYMq/e6/eY0pS7b/i96eDYRPDP1Qg8cw+9eG/H43X9+Mh4D+4RA7YzGDKv3uv3mNKUu2/H43X9+Mh4D9UIPHMPvXhv7ZV2ZL9bfM/4veng2ETwz97r95jSlLtv1Qg8cw+9eG/H43X9+Mh4D+4RA7YzGDKv3uv3mNKUu2/4veng2ETwz9UIPHMPvXhvx+N1/fjIeA/e6/eY0pS7b+2VdmS/W3zP+L3p4NhE8M/e6/eY0pS7b9UIPHMPvXhvx+N1/fjIeA/VCDxzD714b8fjdf34yHgP7hEDtjMYMq/e6/eY0pS7b/i96eDYRPDP1Qg8cw+9eG/H43X9+Mh4D8FO+UvnrECwHeuU5S2tP+/5ObcyDAG+r9RH2b9qlf0v3euU5S2tP+/5ObcyDAG+r93rlOUtrT/v1EfZv2qV/S/e6/eY0pS7b93rlOUtrT/v+Tm3MgwBvq/UR9m/apX9L93rlOUtrT/v+Tm3MgwBvq/UR9m/apX9L97r95jSlLtv3euU5S2tP+/5ObcyDAG+r9RH2b9qlf0v3euU5S2tP+/5ObcyDAG+r97r95jSlLtv3euU5S2tP+/5ObcyDAG+r9RH2b9qlf0v3euU5S2tP+/5ObcyDAG+r9RH2b9qlf0v3uv3mNKUu2/d65TlLa0/7/k5tzIMAb6v1EfZv2qV/S/d65TlLa0/797r95jSlLtv3euU5S2tP+/5ObcyDAG+r93rlOUtrT/v1EfZv2qV/S/5ObcyDAG+r9RH2b9qlf0v3uv3mNKUu2/5ObcyDAG+r9RH2b9qlf0v7hEDtjMYMq/5ObcyDAG+r97r95jSlLtv3euU5S2tP+/UR9m/apX9L/k5tzIMAb6v1EfZv2qV/S/e6/eY0pS7b9UIPHMPvXhvx+N1/fjIeA/4veng2ETwz/raQzn/0v8v8XaHlD07vC/5ObcyDAG+r/NXU5uwzTzv1EfZv2qV/S/e6/eY0pS7b+ZOoNd317fv7hEDtjMYMq/H43X9+Mh4D/raQzn/0v8v8XaHlD07vC/3GOtqmHA97/NXU5uwzTzv1EfZv2qV/S/e6/eY0pS7b+ZOoNd317fv7hEDtjMYMq/H43X9+Mh4D/i96eDYRPDP+tpDOf/S/y/xdoeUPTu8L/k5tzIMAb6v81dTm7DNPO/UR9m/apX9L97r95jSlLtv5k6g13fXt+/uEQO2Mxgyr8fjdf34yHgP4bX0xVK+LM/5ObcyDAG+r97r95jSlLtv5k6g13fXt+/1OB9jJJ69b8fjdf34yHgP7hEDtjMYMq/e6/eY0pS7b+ZOoNd317fv4bX0xVK+LM/uEQO2Mxgyr97r95jSlLtv9TgfYySevW/H43X9+Mh4D/NXU5uwzTzv1yjIOsNO+S/xdoeUPTu8L97LsXkokfWv2upfyesxui/9VgkzadksL8ABGb8nSrMP8XaHlD07vC/Hw7xdoss1z+ZOoNd317fv7hEDtjMYMq/a6l/J6zG6L+G19MVSvizP3suxeSiR9a/AARm/J0qzD97r95jSlLtvx+N1/fjIeA/xdoeUPTu8L9coyDrDTvkv/VYJM2nZLC/AARm/J0qzD/F2h5Q9O7wvx8O8XaLLNc/mTqDXd9e37+4RA7YzGDKv2upfyesxui/htfTFUr4sz97LsXkokfWvwAEZvydKsw/e6/eY0pS7b8fjdf34yHgP8XaHlD07vC/XKMg6w075L/1WCTNp2SwvwAEZvydKsw/xdoeUPTu8L8fDvF2iyzXP/PsOwXPkf6/1OB9jJJ69b97r95jSlLtv+Tm3MgwBvq/mTqDXd9e37/F2h5Q9O7wv4bX0xVK+LM/a6l/J6zG6L8fjdf34yHgP9TgfYySevW/uEQO2Mxgyr/F2h5Q9O7wv3uv3mNKUu2/mTqDXd9e37/NXU5uwzTzv+Tm3MgwBvq/uEQO2Mxgyr9rqX8nrMbovx+N1/fjIeA/xdoeUPTu8L+4RA7YzGDKv9TgfYySevW/8+w7Bc+R/r97r95jSlLtv5k6g13fXt+/5ObcyDAG+r+ZOoNd317fv8XaHlD07vC/htfTFUr4sz9rqX8nrMbovx+N1/fjIeA/xdoeUPTu8L+4RA7YzGDKv9TgfYySevW/e6/eY0pS7b+ZOoNd317fv0UcxY7vfus/e6/eY0pS7b/i96eDYRPDPwE6WmAKFAVAVCDxzD714b8fjdf34yHgP7ZV2ZL9bfM/3OTGKQnL/j+4RA7YzGDKv1Qg8cw+9eG/H43X9+Mh4D9UIPHMPvXhv7ZV2ZL9bfM/ATpaYAoUBUDi96eDYRPDP9zkxikJy/4/e6/eY0pS7b9FHMWO737rP7hEDtjMYMq/tlXZkv1t8z8fjdf34yHgP1Qg8cw+9eG/4veng2ETwz8BOlpgChQFQNzkxikJy/4/uEQO2Mxgyr9FHMWO737rP3uv3mNKUu2/H43X9+Mh4D+2VdmS/W3zP1Qg8cw+9eG/4veng2ETwz/c5MYpCcv+P7hEDtjMYMq/RRzFju9+6z97r95jSlLtvwE6WmAKFAVAVCDxzD714b8fjdf34yHgP1Qg8cw+9eG/4veng2ETwz/c5MYpCcv+P7ZV2ZL9bfM/RRzFju9+6z+4RA7YzGDKv1Qg8cw+9eG/4veng2ETwz/c5MYpCcv+P3uv3mNKUu2/H43X9+Mh4D8BOlpgChQFQFQg8cw+9eG/RRzFju9+6z+2VdmS/W3zP+L3p4NhE8M/3OTGKQnL/j+4RA7YzGDKv1Qg8cw+9eG/H43X9+Mh4D9UIPHMPvXhv+L3p4NhE8M/3OTGKQnL/j+2VdmS/W3zP0UcxY7vfus/uEQO2Mxgyr9UIPHMPvXhv+L3p4NhE8M/3OTGKQnL/j97r95jSlLtvx+N1/fjIeA/ATpaYAoUBUBUIPHMPvXhv0UcxY7vfus/tlXZkv1t8z/i96eDYRPDP9zkxikJy/4/uEQO2Mxgyr9UIPHMPvXhv1Qg8cw+9eG/4veng2ETwz9FHMWO737rP9zkxikJy/4/uEQO2Mxgyr8fjdf34yHgP7ZV2ZL9bfM/VCDxzD714b/i96eDYRPDP0UcxY7vfus/e6/eY0pS7b9UIPHMPvXhv+L3p4NhE8M/RRzFju9+6z/i96eDYRPDPx+N1/fjIeA/tlXZkv1t8z9UIPHMPvXhv0UcxY7vfus/3OTGKQnL/j+4RA7YzGDKv+L3p4NhE8M/ATpaYAoUBUBUIPHMPvXhvx+N1/fjIeA/3OTGKQnL/j9UIPHMPvXhv0UcxY7vfus/4veng2ETwz+4RA7YzGDKv7hEDtjMYMq/H43X9+Mh4D9UIPHMPvXhv+L3p4NhE8M/e6/eY0pS7b9FHMWO737rP+L3p4NhE8M/tlXZkv1t8z8fjdf34yHgP9zkxikJy/4/tlXZkv1t8z9UIPHMPvXhv0UcxY7vfus/4veng2ETwz+4RA7YzGDKvx+N1/fjIeA/e6/eY0pS7b/i96eDYRPDP1Qg8cw+9eG/RRzFju9+6z+2VdmS/W3zP1Qg8cw+9eG/4veng2ETwz8fjdf34yHgP7hEDtjMYMq/RRzFju9+6z9UIPHMPvXhv+L3p4NhE8M/e6/eY0pS7b+2VdmS/W3zPwE6WmAKFAVA3OTGKQnL/j8fjdf34yHgP7ZV2ZL9bfM/4veng2ETwz9FHMWO737rP1Qg8cw+9eG/uEQO2Mxgyr8fjdf34yHgP7ZV2ZL9bfM/3OTGKQnL/j8BOlpgChQFQLZV2ZL9bfM/H43X9+Mh4D/i96eDYRPDP0UcxY7vfus/VCDxzD714b/i96eDYRPDP7ZV2ZL9bfM/3OTGKQnL/j9FHMWO737rP7ZV2ZL9bfM/4veng2ETwz/c5MYpCcv+P1Qg8cw+9eG/H43X9+Mh4D/i96eDYRPDP7ZV2ZL9bfM/uEQO2Mxgyr9FHMWO737rP9zkxikJy/4/H43X9+Mh4D/i96eDYRPDP7ZV2ZL9bfM/VCDxzD714b9FHMWO737rP7hEDtjMYMq/4veng2ETwz8fjdf34yHgP+L3p4NhE8M/ATpaYAoUBUDc5MYpCcv+P7ZV2ZL9bfM/4veng2ETwz9UIPHMPvXhv0UcxY7vfus/H43X9+Mh4D/i96eDYRPDP9zkxikJy/4/tlXZkv1t8z8BOlpgChQFQNzkxikJy/4/tlXZkv1t8z/i96eDYRPDP1Qg8cw+9eG/RRzFju9+6z8fjdf34yHgP+L3p4NhE8M/3OTGKQnL/j+2VdmS/W3zPwE6WmAKFAVA3OTGKQnL/j+2VdmS/W3zP+L3p4NhE8M/RRzFju9+6z9UIPHMPvXhv+L3p4NhE8M/RRzFju9+6z/c5MYpCcv+P+L3p4NhE8M/ATpaYAoUBUDc5MYpCcv+P7ZV2ZL9bfM/4veng2ETwz9FHMWO737rP1Qg8cw+9eG/4veng2ETwz9FHMWO737rP9zkxikJy/4/4veng2ETwz8BOlpgChQFQNzkxikJy/4/tlXZkv1t8z/i96eDYRPDP0UcxY7vfus/VCDxzD714b/i96eDYRPDP0UcxY7vfus/3OTGKQnL/j/i96eDYRPDPwE6WmAKFAVA3OTGKQnL/j+2VdmS/W3zP+L3p4NhE8M/RRzFju9+6z9UIPHMPvXhv+L3p4NhE8M/RRzFju9+6z/c5MYpCcv+P+L3p4NhE8M/ATpaYAoUBUDc5MYpCcv+P7ZV2ZL9bfM/4veng2ETwz9FHMWO737rP1Qg8cw+9eG/4veng2ETwz9FHMWO737rP+L3p4NhE8M/3OTGKQnL/j97r95jSlLtv1Qg8cw+9eG/4veng2ETwz+4RA7YzGDKvx+N1/fjIeA/uEQO2Mxgyr9FHMWO737rP+L3p4NhE8M/VCDxzD714b+2VdmS/W3zP+L3p4NhE8M/3OTGKQnL/j+4RA7YzGDKv0UcxY7vfus/4veng2ETwz8fjdf34yHgP1Qg8cw+9eG/RRzFju9+6z/i96eDYRPDP9zkxikJy/4/uEQO2Mxgyr+2VdmS/W3zP9zkxikJy/4/RRzFju9+6z/i96eDYRPDPx+N1/fjIeA/tlXZkv1t8z9UIPHMPvXhv9zkxikJy/4/RRzFju9+6z/i96eDYRPDP7hEDtjMYMq/VCDxzD714b8fjdf34yHgP0UcxY7vfus/4veng2ETwz/c5MYpCcv+P7ZV2ZL9bfM/uEQO2Mxgyr9UIPHMPvXhvx+N1/fjIeA/RRzFju9+6z+2VdmS/W3zP+L3p4NhE8M/RRzFju9+6z/c5MYpCcv+P1Qg8cw+9eG/H43X9+Mh4D/i96eDYRPDP7ZV2ZL9bfM/uEQO2Mxgyr9FHMWO737rP+L3p4NhE8M/H43X9+Mh4D/c5MYpCcv+P7hEDtjMYMq/RRzFju9+6z+2VdmS/W3zP1Qg8cw+9eG/H43X9+Mh4D/i96eDYRPDP7ZV2ZL9bfM/uEQO2Mxgyr8fjdf34yHgP1Qg8cw+9eG/4veng2ETwz+2VdmS/W3zP0UcxY7vfus/4veng2ETwz+2VdmS/W3zP7hEDtjMYMq/RRzFju9+6z/i96eDYRPDPx+N1/fjIeA/3OTGKQnL/j+4RA7YzGDKv0UcxY7vfus/tlXZkv1t8z9UIPHMPvXhvx+N1/fjIeA/4veng2ETwz+2VdmS/W3zP3uv3mNKUu2/uEQO2Mxgyr9FHMWO737rP3suxeSiR9a/H43X9+Mh4D9UIPHMPvXhv+L3p4NhE8M/mTqDXd9e378fDvF2iyzXP7hEDtjMYMq/9VgkzadksL9rKGaoBLzRv2QmUAndgOa/htfTFUr4sz+KNCQhQdPavy6TNjSCreQ/iPR7RRKdfD9rKGaoBLzRvx8O8XaLLNc/a6l/J6zG6L/1WCTNp2Swv8XaHlD07vC/mTqDXd9e37+4RA7YzGDKv1yjIOsNO+S/mThQX5BJwb97LsXkokfWv4bX0xVK+LM/cyyvRXsM679JnDbf2xHyv1Qg8cw+9eG/ayhmqAS80b8ABGb8nSrMPx+N1/fjIeA/9VgkzadksL+KNCQhQdPav2upfyesxui/mTqDXd9e37+ZOFBfkEnBvx8O8XaLLNc/iPR7RRKdfD9rKGaoBLzRv/VYJM2nZLC/H43X9+Mh4D97LsXkokfWv4j0e0USnXw/mTqDXd9e37/i96eDYRPDPx8O8XaLLNc/uEQO2Mxgyr8uFFCzKbjbP4o0JCFB09q/htfTFUr4sz9rKGaoBLzRv1Qg8cw+9eG/iPR7RRKdfD8ukzY0gq3kPx8O8XaLLNc/ey7F5KJH1r/1WCTNp2Swvx+N1/fjIeA/4veng2ETwz+I9HtFEp18P4bX0xVK+LM/JhAHFrNn4j9rKGaoBLzRvx8O8XaLLNc/9VgkzadksL+I9HtFEp18PxAIkjrtoNI/",
          "dtype": "f8"
         },
         "yaxis": "y"
        }
       ],
       "layout": {
        "legend": {
         "tracegroupgap": 0
        },
        "template": {
         "data": {
          "bar": [
           {
            "error_x": {
             "color": "#2a3f5f"
            },
            "error_y": {
             "color": "#2a3f5f"
            },
            "marker": {
             "line": {
              "color": "#E5ECF6",
              "width": 0.5
             },
             "pattern": {
              "fillmode": "overlay",
              "size": 10,
              "solidity": 0.2
             }
            },
            "type": "bar"
           }
          ],
          "barpolar": [
           {
            "marker": {
             "line": {
              "color": "#E5ECF6",
              "width": 0.5
             },
             "pattern": {
              "fillmode": "overlay",
              "size": 10,
              "solidity": 0.2
             }
            },
            "type": "barpolar"
           }
          ],
          "carpet": [
           {
            "aaxis": {
             "endlinecolor": "#2a3f5f",
             "gridcolor": "white",
             "linecolor": "white",
             "minorgridcolor": "white",
             "startlinecolor": "#2a3f5f"
            },
            "baxis": {
             "endlinecolor": "#2a3f5f",
             "gridcolor": "white",
             "linecolor": "white",
             "minorgridcolor": "white",
             "startlinecolor": "#2a3f5f"
            },
            "type": "carpet"
           }
          ],
          "choropleth": [
           {
            "colorbar": {
             "outlinewidth": 0,
             "ticks": ""
            },
            "type": "choropleth"
           }
          ],
          "contour": [
           {
            "colorbar": {
             "outlinewidth": 0,
             "ticks": ""
            },
            "colorscale": [
             [
              0,
              "#0d0887"
             ],
             [
              0.1111111111111111,
              "#46039f"
             ],
             [
              0.2222222222222222,
              "#7201a8"
             ],
             [
              0.3333333333333333,
              "#9c179e"
             ],
             [
              0.4444444444444444,
              "#bd3786"
             ],
             [
              0.5555555555555556,
              "#d8576b"
             ],
             [
              0.6666666666666666,
              "#ed7953"
             ],
             [
              0.7777777777777778,
              "#fb9f3a"
             ],
             [
              0.8888888888888888,
              "#fdca26"
             ],
             [
              1,
              "#f0f921"
             ]
            ],
            "type": "contour"
           }
          ],
          "contourcarpet": [
           {
            "colorbar": {
             "outlinewidth": 0,
             "ticks": ""
            },
            "type": "contourcarpet"
           }
          ],
          "heatmap": [
           {
            "colorbar": {
             "outlinewidth": 0,
             "ticks": ""
            },
            "colorscale": [
             [
              0,
              "#0d0887"
             ],
             [
              0.1111111111111111,
              "#46039f"
             ],
             [
              0.2222222222222222,
              "#7201a8"
             ],
             [
              0.3333333333333333,
              "#9c179e"
             ],
             [
              0.4444444444444444,
              "#bd3786"
             ],
             [
              0.5555555555555556,
              "#d8576b"
             ],
             [
              0.6666666666666666,
              "#ed7953"
             ],
             [
              0.7777777777777778,
              "#fb9f3a"
             ],
             [
              0.8888888888888888,
              "#fdca26"
             ],
             [
              1,
              "#f0f921"
             ]
            ],
            "type": "heatmap"
           }
          ],
          "histogram": [
           {
            "marker": {
             "pattern": {
              "fillmode": "overlay",
              "size": 10,
              "solidity": 0.2
             }
            },
            "type": "histogram"
           }
          ],
          "histogram2d": [
           {
            "colorbar": {
             "outlinewidth": 0,
             "ticks": ""
            },
            "colorscale": [
             [
              0,
              "#0d0887"
             ],
             [
              0.1111111111111111,
              "#46039f"
             ],
             [
              0.2222222222222222,
              "#7201a8"
             ],
             [
              0.3333333333333333,
              "#9c179e"
             ],
             [
              0.4444444444444444,
              "#bd3786"
             ],
             [
              0.5555555555555556,
              "#d8576b"
             ],
             [
              0.6666666666666666,
              "#ed7953"
             ],
             [
              0.7777777777777778,
              "#fb9f3a"
             ],
             [
              0.8888888888888888,
              "#fdca26"
             ],
             [
              1,
              "#f0f921"
             ]
            ],
            "type": "histogram2d"
           }
          ],
          "histogram2dcontour": [
           {
            "colorbar": {
             "outlinewidth": 0,
             "ticks": ""
            },
            "colorscale": [
             [
              0,
              "#0d0887"
             ],
             [
              0.1111111111111111,
              "#46039f"
             ],
             [
              0.2222222222222222,
              "#7201a8"
             ],
             [
              0.3333333333333333,
              "#9c179e"
             ],
             [
              0.4444444444444444,
              "#bd3786"
             ],
             [
              0.5555555555555556,
              "#d8576b"
             ],
             [
              0.6666666666666666,
              "#ed7953"
             ],
             [
              0.7777777777777778,
              "#fb9f3a"
             ],
             [
              0.8888888888888888,
              "#fdca26"
             ],
             [
              1,
              "#f0f921"
             ]
            ],
            "type": "histogram2dcontour"
           }
          ],
          "mesh3d": [
           {
            "colorbar": {
             "outlinewidth": 0,
             "ticks": ""
            },
            "type": "mesh3d"
           }
          ],
          "parcoords": [
           {
            "line": {
             "colorbar": {
              "outlinewidth": 0,
              "ticks": ""
             }
            },
            "type": "parcoords"
           }
          ],
          "pie": [
           {
            "automargin": true,
            "type": "pie"
           }
          ],
          "scatter": [
           {
            "fillpattern": {
             "fillmode": "overlay",
             "size": 10,
             "solidity": 0.2
            },
            "type": "scatter"
           }
          ],
          "scatter3d": [
           {
            "line": {
             "colorbar": {
              "outlinewidth": 0,
              "ticks": ""
             }
            },
            "marker": {
             "colorbar": {
              "outlinewidth": 0,
              "ticks": ""
             }
            },
            "type": "scatter3d"
           }
          ],
          "scattercarpet": [
           {
            "marker": {
             "colorbar": {
              "outlinewidth": 0,
              "ticks": ""
             }
            },
            "type": "scattercarpet"
           }
          ],
          "scattergeo": [
           {
            "marker": {
             "colorbar": {
              "outlinewidth": 0,
              "ticks": ""
             }
            },
            "type": "scattergeo"
           }
          ],
          "scattergl": [
           {
            "marker": {
             "colorbar": {
              "outlinewidth": 0,
              "ticks": ""
             }
            },
            "type": "scattergl"
           }
          ],
          "scattermap": [
           {
            "marker": {
             "colorbar": {
              "outlinewidth": 0,
              "ticks": ""
             }
            },
            "type": "scattermap"
           }
          ],
          "scattermapbox": [
           {
            "marker": {
             "colorbar": {
              "outlinewidth": 0,
              "ticks": ""
             }
            },
            "type": "scattermapbox"
           }
          ],
          "scatterpolar": [
           {
            "marker": {
             "colorbar": {
              "outlinewidth": 0,
              "ticks": ""
             }
            },
            "type": "scatterpolar"
           }
          ],
          "scatterpolargl": [
           {
            "marker": {
             "colorbar": {
              "outlinewidth": 0,
              "ticks": ""
             }
            },
            "type": "scatterpolargl"
           }
          ],
          "scatterternary": [
           {
            "marker": {
             "colorbar": {
              "outlinewidth": 0,
              "ticks": ""
             }
            },
            "type": "scatterternary"
           }
          ],
          "surface": [
           {
            "colorbar": {
             "outlinewidth": 0,
             "ticks": ""
            },
            "colorscale": [
             [
              0,
              "#0d0887"
             ],
             [
              0.1111111111111111,
              "#46039f"
             ],
             [
              0.2222222222222222,
              "#7201a8"
             ],
             [
              0.3333333333333333,
              "#9c179e"
             ],
             [
              0.4444444444444444,
              "#bd3786"
             ],
             [
              0.5555555555555556,
              "#d8576b"
             ],
             [
              0.6666666666666666,
              "#ed7953"
             ],
             [
              0.7777777777777778,
              "#fb9f3a"
             ],
             [
              0.8888888888888888,
              "#fdca26"
             ],
             [
              1,
              "#f0f921"
             ]
            ],
            "type": "surface"
           }
          ],
          "table": [
           {
            "cells": {
             "fill": {
              "color": "#EBF0F8"
             },
             "line": {
              "color": "white"
             }
            },
            "header": {
             "fill": {
              "color": "#C8D4E3"
             },
             "line": {
              "color": "white"
             }
            },
            "type": "table"
           }
          ]
         },
         "layout": {
          "annotationdefaults": {
           "arrowcolor": "#2a3f5f",
           "arrowhead": 0,
           "arrowwidth": 1
          },
          "autotypenumbers": "strict",
          "coloraxis": {
           "colorbar": {
            "outlinewidth": 0,
            "ticks": ""
           }
          },
          "colorscale": {
           "diverging": [
            [
             0,
             "#8e0152"
            ],
            [
             0.1,
             "#c51b7d"
            ],
            [
             0.2,
             "#de77ae"
            ],
            [
             0.3,
             "#f1b6da"
            ],
            [
             0.4,
             "#fde0ef"
            ],
            [
             0.5,
             "#f7f7f7"
            ],
            [
             0.6,
             "#e6f5d0"
            ],
            [
             0.7,
             "#b8e186"
            ],
            [
             0.8,
             "#7fbc41"
            ],
            [
             0.9,
             "#4d9221"
            ],
            [
             1,
             "#276419"
            ]
           ],
           "sequential": [
            [
             0,
             "#0d0887"
            ],
            [
             0.1111111111111111,
             "#46039f"
            ],
            [
             0.2222222222222222,
             "#7201a8"
            ],
            [
             0.3333333333333333,
             "#9c179e"
            ],
            [
             0.4444444444444444,
             "#bd3786"
            ],
            [
             0.5555555555555556,
             "#d8576b"
            ],
            [
             0.6666666666666666,
             "#ed7953"
            ],
            [
             0.7777777777777778,
             "#fb9f3a"
            ],
            [
             0.8888888888888888,
             "#fdca26"
            ],
            [
             1,
             "#f0f921"
            ]
           ],
           "sequentialminus": [
            [
             0,
             "#0d0887"
            ],
            [
             0.1111111111111111,
             "#46039f"
            ],
            [
             0.2222222222222222,
             "#7201a8"
            ],
            [
             0.3333333333333333,
             "#9c179e"
            ],
            [
             0.4444444444444444,
             "#bd3786"
            ],
            [
             0.5555555555555556,
             "#d8576b"
            ],
            [
             0.6666666666666666,
             "#ed7953"
            ],
            [
             0.7777777777777778,
             "#fb9f3a"
            ],
            [
             0.8888888888888888,
             "#fdca26"
            ],
            [
             1,
             "#f0f921"
            ]
           ]
          },
          "colorway": [
           "#636efa",
           "#EF553B",
           "#00cc96",
           "#ab63fa",
           "#FFA15A",
           "#19d3f3",
           "#FF6692",
           "#B6E880",
           "#FF97FF",
           "#FECB52"
          ],
          "font": {
           "color": "#2a3f5f"
          },
          "geo": {
           "bgcolor": "white",
           "lakecolor": "white",
           "landcolor": "#E5ECF6",
           "showlakes": true,
           "showland": true,
           "subunitcolor": "white"
          },
          "hoverlabel": {
           "align": "left"
          },
          "hovermode": "closest",
          "mapbox": {
           "style": "light"
          },
          "paper_bgcolor": "white",
          "plot_bgcolor": "#E5ECF6",
          "polar": {
           "angularaxis": {
            "gridcolor": "white",
            "linecolor": "white",
            "ticks": ""
           },
           "bgcolor": "#E5ECF6",
           "radialaxis": {
            "gridcolor": "white",
            "linecolor": "white",
            "ticks": ""
           }
          },
          "scene": {
           "xaxis": {
            "backgroundcolor": "#E5ECF6",
            "gridcolor": "white",
            "gridwidth": 2,
            "linecolor": "white",
            "showbackground": true,
            "ticks": "",
            "zerolinecolor": "white"
           },
           "yaxis": {
            "backgroundcolor": "#E5ECF6",
            "gridcolor": "white",
            "gridwidth": 2,
            "linecolor": "white",
            "showbackground": true,
            "ticks": "",
            "zerolinecolor": "white"
           },
           "zaxis": {
            "backgroundcolor": "#E5ECF6",
            "gridcolor": "white",
            "gridwidth": 2,
            "linecolor": "white",
            "showbackground": true,
            "ticks": "",
            "zerolinecolor": "white"
           }
          },
          "shapedefaults": {
           "line": {
            "color": "#2a3f5f"
           }
          },
          "ternary": {
           "aaxis": {
            "gridcolor": "white",
            "linecolor": "white",
            "ticks": ""
           },
           "baxis": {
            "gridcolor": "white",
            "linecolor": "white",
            "ticks": ""
           },
           "bgcolor": "#E5ECF6",
           "caxis": {
            "gridcolor": "white",
            "linecolor": "white",
            "ticks": ""
           }
          },
          "title": {
           "x": 0.05
          },
          "xaxis": {
           "automargin": true,
           "gridcolor": "white",
           "linecolor": "white",
           "ticks": "",
           "title": {
            "standoff": 15
           },
           "zerolinecolor": "white",
           "zerolinewidth": 2
          },
          "yaxis": {
           "automargin": true,
           "gridcolor": "white",
           "linecolor": "white",
           "ticks": "",
           "title": {
            "standoff": 15
           },
           "zerolinecolor": "white",
           "zerolinewidth": 2
          }
         }
        },
        "title": {
         "text": "Retweets vs Likes"
        },
        "xaxis": {
         "anchor": "y",
         "domain": [
          0,
          1
         ],
         "title": {
          "text": "Retweets"
         }
        },
        "yaxis": {
         "anchor": "x",
         "domain": [
          0,
          1
         ],
         "title": {
          "text": "Likes"
         }
        }
       }
      }
     },
     "metadata": {},
     "output_type": "display_data"
    }
   ],
   "source": [
    "px.scatter(df,x='Retweets',y='Likes',title='Retweets vs Likes')"
   ]
  },
  {
   "cell_type": "code",
   "execution_count": 13,
   "id": "a7d89431",
   "metadata": {},
   "outputs": [
    {
     "data": {
      "text/plain": [
       "count    7.320000e+02\n",
       "mean     1.553099e-16\n",
       "std      1.000684e+00\n",
       "min     -2.339444e+00\n",
       "25%     -5.325894e-01\n",
       "50%      6.969545e-02\n",
       "75%      4.948377e-01\n",
       "max      2.620549e+00\n",
       "Name: Retweets, dtype: float64"
      ]
     },
     "execution_count": 13,
     "metadata": {},
     "output_type": "execute_result"
    }
   ],
   "source": [
    "df['Retweets'].describe()"
   ]
  },
  {
   "cell_type": "code",
   "execution_count": 14,
   "id": "ad55dedf",
   "metadata": {},
   "outputs": [
    {
     "data": {
      "text/plain": [
       "<Axes: >"
      ]
     },
     "execution_count": 14,
     "metadata": {},
     "output_type": "execute_result"
    },
    {
     "data": {
      "image/png": "[encoded data removed]",
      "text/plain": [
       "<Figure size 640x480 with 2 Axes>"
      ]
     },
     "metadata": {},
     "output_type": "display_data"
    }
   ],
   "source": [
    "\n",
    "# Display the correlation matrix\n",
    "sns.heatmap(df[['Likes','Retweets']].corr(),annot=True, cmap='coolwarm')"
   ]
  },
  {
   "cell_type": "code",
   "execution_count": 15,
   "id": "822f3093",
   "metadata": {},
   "outputs": [
    {
     "data": {
      "text/plain": [
       "<Axes: title={'center': 'Sentiment Analysis'}>"
      ]
     },
     "execution_count": 15,
     "metadata": {},
     "output_type": "execute_result"
    },
    {
     "data": {
      "image/png": "[encoded data removed]",
      "text/plain": [
       "<Figure size 640x480 with 1 Axes>"
      ]
     },
     "metadata": {},
     "output_type": "display_data"
    }
   ],
   "source": [
    "label=pd.Series(df['Sentiment'].unique())\n",
    "label.plot(kind='bar',color='green',title='Sentiment Analysis')"
   ]
  },
  {
   "cell_type": "code",
   "execution_count": 16,
   "id": "7e0ece9b",
   "metadata": {},
   "outputs": [
    {
     "name": "stdout",
     "output_type": "stream",
     "text": [
      "   Unnamed: 0.1  Unnamed: 0  Sentiment  Retweets     Likes      Year  \\\n",
      "0     -1.733763   -1.741727   1.025909 -0.922303 -0.916295  0.902984   \n",
      "1     -1.729032   -1.737017   0.768055 -2.339444 -2.336727  0.902984   \n",
      "2     -1.724301   -1.732306   1.025909 -0.213733 -0.206079  0.902984   \n",
      "3     -1.719570   -1.727595   1.025909 -1.914302 -1.981619  0.902984   \n",
      "4     -1.714839   -1.722884   0.795197 -1.347445 -1.271403  0.902984   \n",
      "\n",
      "      Month       Day      Hour  \n",
      "0 -1.502582 -0.058718 -0.856774  \n",
      "1 -1.502582 -0.058718 -1.829867  \n",
      "2 -1.502582 -0.058718 -0.126954  \n",
      "3 -1.502582 -0.058718  0.602866  \n",
      "4 -1.502582 -0.058718  0.846139  \n"
     ]
    }
   ],
   "source": [
    "numeric_df = df.select_dtypes(include=['float64', 'int64'])\n",
    "print(numeric_df.head())"
   ]
  },
  {
   "cell_type": "code",
   "execution_count": 17,
   "id": "d62fc803",
   "metadata": {},
   "outputs": [
    {
     "data": {
      "text/html": [
       "<div>\n",
       "<style scoped>\n",
       "    .dataframe tbody tr th:only-of-type {\n",
       "        vertical-align: middle;\n",
       "    }\n",
       "\n",
       "    .dataframe tbody tr th {\n",
       "        vertical-align: top;\n",
       "    }\n",
       "\n",
       "    .dataframe thead th {\n",
       "        text-align: right;\n",
       "    }\n",
       "</style>\n",
       "<table border=\"1\" class=\"dataframe\">\n",
       "  <thead>\n",
       "    <tr style=\"text-align: right;\">\n",
       "      <th></th>\n",
       "      <th>Unnamed: 0.1</th>\n",
       "      <th>Unnamed: 0</th>\n",
       "      <th>Sentiment</th>\n",
       "      <th>Retweets</th>\n",
       "      <th>Likes</th>\n",
       "      <th>Year</th>\n",
       "      <th>Month</th>\n",
       "      <th>Day</th>\n",
       "      <th>Hour</th>\n",
       "    </tr>\n",
       "  </thead>\n",
       "  <tbody>\n",
       "    <tr>\n",
       "      <th>count</th>\n",
       "      <td>7.320000e+02</td>\n",
       "      <td>732.000000</td>\n",
       "      <td>7.320000e+02</td>\n",
       "      <td>7.320000e+02</td>\n",
       "      <td>7.320000e+02</td>\n",
       "      <td>7.320000e+02</td>\n",
       "      <td>7.320000e+02</td>\n",
       "      <td>7.320000e+02</td>\n",
       "      <td>7.320000e+02</td>\n",
       "    </tr>\n",
       "    <tr>\n",
       "      <th>mean</th>\n",
       "      <td>-7.765494e-17</td>\n",
       "      <td>0.000000</td>\n",
       "      <td>-8.250838e-17</td>\n",
       "      <td>1.553099e-16</td>\n",
       "      <td>1.941374e-16</td>\n",
       "      <td>-3.990493e-14</td>\n",
       "      <td>-1.941374e-17</td>\n",
       "      <td>-3.761411e-17</td>\n",
       "      <td>2.329648e-16</td>\n",
       "    </tr>\n",
       "    <tr>\n",
       "      <th>std</th>\n",
       "      <td>1.000684e+00</td>\n",
       "      <td>1.000684</td>\n",
       "      <td>1.000684e+00</td>\n",
       "      <td>1.000684e+00</td>\n",
       "      <td>1.000684e+00</td>\n",
       "      <td>1.000684e+00</td>\n",
       "      <td>1.000684e+00</td>\n",
       "      <td>1.000684e+00</td>\n",
       "      <td>1.000684e+00</td>\n",
       "    </tr>\n",
       "    <tr>\n",
       "      <th>min</th>\n",
       "      <td>-1.733763e+00</td>\n",
       "      <td>-1.741727</td>\n",
       "      <td>-1.878339e+00</td>\n",
       "      <td>-2.339444e+00</td>\n",
       "      <td>-2.336727e+00</td>\n",
       "      <td>-3.739260e+00</td>\n",
       "      <td>-1.502582e+00</td>\n",
       "      <td>-1.711852e+00</td>\n",
       "      <td>-3.776053e+00</td>\n",
       "    </tr>\n",
       "    <tr>\n",
       "      <th>25%</th>\n",
       "      <td>-8.644320e-01</td>\n",
       "      <td>-0.866719</td>\n",
       "      <td>-8.197813e-01</td>\n",
       "      <td>-5.325894e-01</td>\n",
       "      <td>-5.789426e-01</td>\n",
       "      <td>-5.253989e-01</td>\n",
       "      <td>-9.159739e-01</td>\n",
       "      <td>-7.672039e-01</td>\n",
       "      <td>-6.135006e-01</td>\n",
       "    </tr>\n",
       "    <tr>\n",
       "      <th>50%</th>\n",
       "      <td>1.680429e-04</td>\n",
       "      <td>0.003578</td>\n",
       "      <td>8.064882e-03</td>\n",
       "      <td>6.969545e-02</td>\n",
       "      <td>6.985732e-03</td>\n",
       "      <td>1.887924e-01</td>\n",
       "      <td>-3.606196e-02</td>\n",
       "      <td>-5.871788e-02</td>\n",
       "      <td>1.163192e-01</td>\n",
       "    </tr>\n",
       "    <tr>\n",
       "      <th>75%</th>\n",
       "      <td>8.647681e-01</td>\n",
       "      <td>0.864454</td>\n",
       "      <td>8.494824e-01</td>\n",
       "      <td>4.948377e-01</td>\n",
       "      <td>5.041370e-01</td>\n",
       "      <td>9.029837e-01</td>\n",
       "      <td>8.438500e-01</td>\n",
       "      <td>7.678492e-01</td>\n",
       "      <td>8.461390e-01</td>\n",
       "    </tr>\n",
       "    <tr>\n",
       "      <th>max</th>\n",
       "      <td>1.729368e+00</td>\n",
       "      <td>1.725330</td>\n",
       "      <td>1.894469e+00</td>\n",
       "      <td>2.620549e+00</td>\n",
       "      <td>2.634785e+00</td>\n",
       "      <td>9.029837e-01</td>\n",
       "      <td>1.723762e+00</td>\n",
       "      <td>1.830578e+00</td>\n",
       "      <td>1.819232e+00</td>\n",
       "    </tr>\n",
       "  </tbody>\n",
       "</table>\n",
       "</div>"
      ],
      "text/plain": [
       "       Unnamed: 0.1  Unnamed: 0     Sentiment      Retweets         Likes  \\\n",
       "count  7.320000e+02  732.000000  7.320000e+02  7.320000e+02  7.320000e+02   \n",
       "mean  -7.765494e-17    0.000000 -8.250838e-17  1.553099e-16  1.941374e-16   \n",
       "std    1.000684e+00    1.000684  1.000684e+00  1.000684e+00  1.000684e+00   \n",
       "min   -1.733763e+00   -1.741727 -1.878339e+00 -2.339444e+00 -2.336727e+00   \n",
       "25%   -8.644320e-01   -0.866719 -8.197813e-01 -5.325894e-01 -5.789426e-01   \n",
       "50%    1.680429e-04    0.003578  8.064882e-03  6.969545e-02  6.985732e-03   \n",
       "75%    8.647681e-01    0.864454  8.494824e-01  4.948377e-01  5.041370e-01   \n",
       "max    1.729368e+00    1.725330  1.894469e+00  2.620549e+00  2.634785e+00   \n",
       "\n",
       "               Year         Month           Day          Hour  \n",
       "count  7.320000e+02  7.320000e+02  7.320000e+02  7.320000e+02  \n",
       "mean  -3.990493e-14 -1.941374e-17 -3.761411e-17  2.329648e-16  \n",
       "std    1.000684e+00  1.000684e+00  1.000684e+00  1.000684e+00  \n",
       "min   -3.739260e+00 -1.502582e+00 -1.711852e+00 -3.776053e+00  \n",
       "25%   -5.253989e-01 -9.159739e-01 -7.672039e-01 -6.135006e-01  \n",
       "50%    1.887924e-01 -3.606196e-02 -5.871788e-02  1.163192e-01  \n",
       "75%    9.029837e-01  8.438500e-01  7.678492e-01  8.461390e-01  \n",
       "max    9.029837e-01  1.723762e+00  1.830578e+00  1.819232e+00  "
      ]
     },
     "execution_count": 17,
     "metadata": {},
     "output_type": "execute_result"
    }
   ],
   "source": [
    "numeric_df.describe()"
   ]
  },
  {
   "cell_type": "code",
   "execution_count": 18,
   "id": "80427452",
   "metadata": {},
   "outputs": [],
   "source": [
    "numeric_df.drop(columns=['Unnamed: 0.1', 'Unnamed: 0'], inplace=True)"
   ]
  },
  {
   "cell_type": "code",
   "execution_count": 19,
   "id": "2aa7bf5b",
   "metadata": {},
   "outputs": [
    {
     "data": {
      "text/html": [
       "<div>\n",
       "<style scoped>\n",
       "    .dataframe tbody tr th:only-of-type {\n",
       "        vertical-align: middle;\n",
       "    }\n",
       "\n",
       "    .dataframe tbody tr th {\n",
       "        vertical-align: top;\n",
       "    }\n",
       "\n",
       "    .dataframe thead th {\n",
       "        text-align: right;\n",
       "    }\n",
       "</style>\n",
       "<table border=\"1\" class=\"dataframe\">\n",
       "  <thead>\n",
       "    <tr style=\"text-align: right;\">\n",
       "      <th></th>\n",
       "      <th>Sentiment</th>\n",
       "      <th>Retweets</th>\n",
       "      <th>Likes</th>\n",
       "      <th>Year</th>\n",
       "      <th>Month</th>\n",
       "      <th>Day</th>\n",
       "      <th>Hour</th>\n",
       "    </tr>\n",
       "  </thead>\n",
       "  <tbody>\n",
       "    <tr>\n",
       "      <th>0</th>\n",
       "      <td>1.025909</td>\n",
       "      <td>-0.922303</td>\n",
       "      <td>-0.916295</td>\n",
       "      <td>0.902984</td>\n",
       "      <td>-1.502582</td>\n",
       "      <td>-0.058718</td>\n",
       "      <td>-0.856774</td>\n",
       "    </tr>\n",
       "    <tr>\n",
       "      <th>1</th>\n",
       "      <td>0.768055</td>\n",
       "      <td>-2.339444</td>\n",
       "      <td>-2.336727</td>\n",
       "      <td>0.902984</td>\n",
       "      <td>-1.502582</td>\n",
       "      <td>-0.058718</td>\n",
       "      <td>-1.829867</td>\n",
       "    </tr>\n",
       "    <tr>\n",
       "      <th>2</th>\n",
       "      <td>1.025909</td>\n",
       "      <td>-0.213733</td>\n",
       "      <td>-0.206079</td>\n",
       "      <td>0.902984</td>\n",
       "      <td>-1.502582</td>\n",
       "      <td>-0.058718</td>\n",
       "      <td>-0.126954</td>\n",
       "    </tr>\n",
       "    <tr>\n",
       "      <th>3</th>\n",
       "      <td>1.025909</td>\n",
       "      <td>-1.914302</td>\n",
       "      <td>-1.981619</td>\n",
       "      <td>0.902984</td>\n",
       "      <td>-1.502582</td>\n",
       "      <td>-0.058718</td>\n",
       "      <td>0.602866</td>\n",
       "    </tr>\n",
       "    <tr>\n",
       "      <th>4</th>\n",
       "      <td>0.795197</td>\n",
       "      <td>-1.347445</td>\n",
       "      <td>-1.271403</td>\n",
       "      <td>0.902984</td>\n",
       "      <td>-1.502582</td>\n",
       "      <td>-0.058718</td>\n",
       "      <td>0.846139</td>\n",
       "    </tr>\n",
       "    <tr>\n",
       "      <th>...</th>\n",
       "      <td>...</td>\n",
       "      <td>...</td>\n",
       "      <td>...</td>\n",
       "      <td>...</td>\n",
       "      <td>...</td>\n",
       "      <td>...</td>\n",
       "      <td>...</td>\n",
       "    </tr>\n",
       "    <tr>\n",
       "      <th>727</th>\n",
       "      <td>0.008065</td>\n",
       "      <td>-0.213733</td>\n",
       "      <td>-0.277101</td>\n",
       "      <td>-1.239590</td>\n",
       "      <td>0.550546</td>\n",
       "      <td>0.295525</td>\n",
       "      <td>0.602866</td>\n",
       "    </tr>\n",
       "    <tr>\n",
       "      <th>728</th>\n",
       "      <td>0.008065</td>\n",
       "      <td>0.494838</td>\n",
       "      <td>0.362094</td>\n",
       "      <td>-0.882495</td>\n",
       "      <td>-0.036062</td>\n",
       "      <td>0.767849</td>\n",
       "      <td>-0.370227</td>\n",
       "    </tr>\n",
       "    <tr>\n",
       "      <th>729</th>\n",
       "      <td>0.008065</td>\n",
       "      <td>0.069695</td>\n",
       "      <td>-0.064036</td>\n",
       "      <td>-0.525399</td>\n",
       "      <td>-0.622670</td>\n",
       "      <td>-1.239528</td>\n",
       "      <td>0.359592</td>\n",
       "    </tr>\n",
       "    <tr>\n",
       "      <th>730</th>\n",
       "      <td>0.008065</td>\n",
       "      <td>-0.072019</td>\n",
       "      <td>0.006986</td>\n",
       "      <td>-0.168303</td>\n",
       "      <td>-1.209278</td>\n",
       "      <td>1.594416</td>\n",
       "      <td>1.089412</td>\n",
       "    </tr>\n",
       "    <tr>\n",
       "      <th>731</th>\n",
       "      <td>0.008065</td>\n",
       "      <td>0.353124</td>\n",
       "      <td>0.291072</td>\n",
       "      <td>-0.168303</td>\n",
       "      <td>1.430458</td>\n",
       "      <td>-0.058718</td>\n",
       "      <td>-0.126954</td>\n",
       "    </tr>\n",
       "  </tbody>\n",
       "</table>\n",
       "<p>732 rows × 7 columns</p>\n",
       "</div>"
      ],
      "text/plain": [
       "     Sentiment  Retweets     Likes      Year     Month       Day      Hour\n",
       "0     1.025909 -0.922303 -0.916295  0.902984 -1.502582 -0.058718 -0.856774\n",
       "1     0.768055 -2.339444 -2.336727  0.902984 -1.502582 -0.058718 -1.829867\n",
       "2     1.025909 -0.213733 -0.206079  0.902984 -1.502582 -0.058718 -0.126954\n",
       "3     1.025909 -1.914302 -1.981619  0.902984 -1.502582 -0.058718  0.602866\n",
       "4     0.795197 -1.347445 -1.271403  0.902984 -1.502582 -0.058718  0.846139\n",
       "..         ...       ...       ...       ...       ...       ...       ...\n",
       "727   0.008065 -0.213733 -0.277101 -1.239590  0.550546  0.295525  0.602866\n",
       "728   0.008065  0.494838  0.362094 -0.882495 -0.036062  0.767849 -0.370227\n",
       "729   0.008065  0.069695 -0.064036 -0.525399 -0.622670 -1.239528  0.359592\n",
       "730   0.008065 -0.072019  0.006986 -0.168303 -1.209278  1.594416  1.089412\n",
       "731   0.008065  0.353124  0.291072 -0.168303  1.430458 -0.058718 -0.126954\n",
       "\n",
       "[732 rows x 7 columns]"
      ]
     },
     "execution_count": 19,
     "metadata": {},
     "output_type": "execute_result"
    }
   ],
   "source": [
    "numeric_df"
   ]
  },
  {
   "cell_type": "code",
   "execution_count": 20,
   "id": "3d9f5cf8",
   "metadata": {},
   "outputs": [
    {
     "data": {
      "text/html": [
       "<div>\n",
       "<style scoped>\n",
       "    .dataframe tbody tr th:only-of-type {\n",
       "        vertical-align: middle;\n",
       "    }\n",
       "\n",
       "    .dataframe tbody tr th {\n",
       "        vertical-align: top;\n",
       "    }\n",
       "\n",
       "    .dataframe thead th {\n",
       "        text-align: right;\n",
       "    }\n",
       "</style>\n",
       "<table border=\"1\" class=\"dataframe\">\n",
       "  <thead>\n",
       "    <tr style=\"text-align: right;\">\n",
       "      <th></th>\n",
       "      <th>Sentiment</th>\n",
       "      <th>Retweets</th>\n",
       "      <th>Likes</th>\n",
       "      <th>Year</th>\n",
       "      <th>Month</th>\n",
       "      <th>Day</th>\n",
       "      <th>Hour</th>\n",
       "    </tr>\n",
       "  </thead>\n",
       "  <tbody>\n",
       "    <tr>\n",
       "      <th>Sentiment</th>\n",
       "      <td>1.000000</td>\n",
       "      <td>0.021697</td>\n",
       "      <td>0.021539</td>\n",
       "      <td>0.029799</td>\n",
       "      <td>-0.042200</td>\n",
       "      <td>0.066255</td>\n",
       "      <td>0.140351</td>\n",
       "    </tr>\n",
       "    <tr>\n",
       "      <th>Retweets</th>\n",
       "      <td>0.021697</td>\n",
       "      <td>1.000000</td>\n",
       "      <td>0.998482</td>\n",
       "      <td>-0.039982</td>\n",
       "      <td>0.073265</td>\n",
       "      <td>0.009213</td>\n",
       "      <td>0.196955</td>\n",
       "    </tr>\n",
       "    <tr>\n",
       "      <th>Likes</th>\n",
       "      <td>0.021539</td>\n",
       "      <td>0.998482</td>\n",
       "      <td>1.000000</td>\n",
       "      <td>-0.043415</td>\n",
       "      <td>0.066643</td>\n",
       "      <td>0.011489</td>\n",
       "      <td>0.195331</td>\n",
       "    </tr>\n",
       "    <tr>\n",
       "      <th>Year</th>\n",
       "      <td>0.029799</td>\n",
       "      <td>-0.039982</td>\n",
       "      <td>-0.043415</td>\n",
       "      <td>1.000000</td>\n",
       "      <td>-0.314845</td>\n",
       "      <td>0.021973</td>\n",
       "      <td>-0.087470</td>\n",
       "    </tr>\n",
       "    <tr>\n",
       "      <th>Month</th>\n",
       "      <td>-0.042200</td>\n",
       "      <td>0.073265</td>\n",
       "      <td>0.066643</td>\n",
       "      <td>-0.314845</td>\n",
       "      <td>1.000000</td>\n",
       "      <td>-0.135873</td>\n",
       "      <td>0.137835</td>\n",
       "    </tr>\n",
       "    <tr>\n",
       "      <th>Day</th>\n",
       "      <td>0.066255</td>\n",
       "      <td>0.009213</td>\n",
       "      <td>0.011489</td>\n",
       "      <td>0.021973</td>\n",
       "      <td>-0.135873</td>\n",
       "      <td>1.000000</td>\n",
       "      <td>0.044072</td>\n",
       "    </tr>\n",
       "    <tr>\n",
       "      <th>Hour</th>\n",
       "      <td>0.140351</td>\n",
       "      <td>0.196955</td>\n",
       "      <td>0.195331</td>\n",
       "      <td>-0.087470</td>\n",
       "      <td>0.137835</td>\n",
       "      <td>0.044072</td>\n",
       "      <td>1.000000</td>\n",
       "    </tr>\n",
       "  </tbody>\n",
       "</table>\n",
       "</div>"
      ],
      "text/plain": [
       "           Sentiment  Retweets     Likes      Year     Month       Day  \\\n",
       "Sentiment   1.000000  0.021697  0.021539  0.029799 -0.042200  0.066255   \n",
       "Retweets    0.021697  1.000000  0.998482 -0.039982  0.073265  0.009213   \n",
       "Likes       0.021539  0.998482  1.000000 -0.043415  0.066643  0.011489   \n",
       "Year        0.029799 -0.039982 -0.043415  1.000000 -0.314845  0.021973   \n",
       "Month      -0.042200  0.073265  0.066643 -0.314845  1.000000 -0.135873   \n",
       "Day         0.066255  0.009213  0.011489  0.021973 -0.135873  1.000000   \n",
       "Hour        0.140351  0.196955  0.195331 -0.087470  0.137835  0.044072   \n",
       "\n",
       "               Hour  \n",
       "Sentiment  0.140351  \n",
       "Retweets   0.196955  \n",
       "Likes      0.195331  \n",
       "Year      -0.087470  \n",
       "Month      0.137835  \n",
       "Day        0.044072  \n",
       "Hour       1.000000  "
      ]
     },
     "execution_count": 20,
     "metadata": {},
     "output_type": "execute_result"
    }
   ],
   "source": [
    "numeric_df.corr()"
   ]
  },
  {
   "cell_type": "code",
   "execution_count": 21,
   "id": "5d7096b9",
   "metadata": {},
   "outputs": [
    {
     "data": {
      "text/plain": [
       "<Axes: >"
      ]
     },
     "execution_count": 21,
     "metadata": {},
     "output_type": "execute_result"
    },
    {
     "data": {
      "image/png": "[encoded data removed]",
      "text/plain": [
       "<Figure size 640x480 with 2 Axes>"
      ]
     },
     "metadata": {},
     "output_type": "display_data"
    }
   ],
   "source": [
    "sns.heatmap(numeric_df.corr(), annot=True, cmap='coolwarm', fmt='.2f')"
   ]
  },
  {
   "cell_type": "code",
   "execution_count": 22,
   "id": "c39ba4d0",
   "metadata": {},
   "outputs": [
    {
     "data": {
      "image/png": "[encoded data removed]",
      "text/plain": [
       "<Figure size 1000x1000 with 9 Axes>"
      ]
     },
     "metadata": {},
     "output_type": "display_data"
    }
   ],
   "source": [
    "numeric_df.hist(figsize=(10, 10), bins=30, layout=(3, 3), color='blue', edgecolor='black')\n",
    "plt.tight_layout()\n",
    "plt.show()"
   ]
  },
  {
   "cell_type": "code",
   "execution_count": null,
   "id": "c191257d",
   "metadata": {},
   "outputs": [
    {
     "name": "stdout",
     "output_type": "stream",
     "text": [
      "Sentiment(polarity=0.14225630225204094, subjectivity=0.5174179053269956)\n"
     ]
    }
   ],
   "source": [
    "#using textblob for sentiment analysis\n",
    "from textblob import TextBlob\n",
    "blob = TextBlob(' '.join(df['Text']))\n",
    "print(blob.sentiment)\n"
   ]
  },
  {
   "cell_type": "code",
   "execution_count": 32,
   "id": "c36271d5",
   "metadata": {},
   "outputs": [
    {
     "name": "stdout",
     "output_type": "stream",
     "text": [
      "The sentiment is positive.\n",
      "Polarity: 0.14225630225204094, Subjectivity: 0.5174179053269956\n"
     ]
    }
   ],
   "source": [
    "polarity = blob.sentiment.polarity\n",
    "subjectivity = blob.sentiment.subjectivity\n",
    "if polarity > 0:\n",
    "    print(\"The sentiment is positive.\")\n",
    "elif polarity < 0:\n",
    "    print(\"The sentiment is negative.\")\n",
    "else:\n",
    "    print(\"The sentiment is neutral.\")\n",
    "# Display the polarity and subjectivity\n",
    "print(f\"Polarity: {polarity}, Subjectivity: {subjectivity}\")"
   ]
  }
 ],
 "metadata": {
  "kernelspec": {
   "display_name": "Python 3",
   "language": "python",
   "name": "python3"
  },
  "language_info": {
   "codemirror_mode": {
    "name": "ipython",
    "version": 3
   },
   "file_extension": ".py",
   "mimetype": "text/x-python",
   "name": "python",
   "nbconvert_exporter": "python",
   "pygments_lexer": "ipython3",
   "version": "3.12.1"
  }
 },
 "nbformat": 4,
 "nbformat_minor": 5
}
